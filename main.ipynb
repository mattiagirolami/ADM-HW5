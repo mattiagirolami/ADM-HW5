{
 "cells": [
  {
   "cell_type": "code",
   "execution_count": 1,
   "id": "3895eeac-1677-4e51-861d-0abc0e3084ca",
   "metadata": {},
   "outputs": [],
   "source": [
    "import pandas as pd\n",
    "import numpy as np\n",
    "import networkx as nx\n",
    "import matplotlib.pyplot as plt\n",
    "from collections import Counter\n",
    "from statistics import mean\n",
    "import numpy as np"
   ]
  },
  {
   "cell_type": "markdown",
   "id": "2cf0ccac-1b29-4f11-9c99-23baf6f0f6e1",
   "metadata": {},
   "source": [
    "# 1. ***Data***"
   ]
  },
  {
   "cell_type": "markdown",
   "id": "fb9fa2fb",
   "metadata": {},
   "source": [
    "## **Data Preprocessing**"
   ]
  },
  {
   "cell_type": "markdown",
   "id": "a81f8cab-239d-489e-88d0-b6be10de639f",
   "metadata": {},
   "source": [
    "As always, in the data science area, you can find some inconsistencies in the provided data. Therefore, some modifications should be made to the data to make it consistent across all of the datasets you have. To ensure consistency in the data, keep the following in mind:\n",
    "\n",
    "  1)  Some of the heroes' names in 'hero-network.csv' are not found in 'edges.csv'. This inconsistency exists for the following reasons:\n",
    "        - Some heroes' names in 'hero-netowrk.csv' have extra spaces at the end of their names compared to their names in 'edges.csv'.\n",
    "        - Some heroes' names in 'hero-netowrk.csv' have an extra '/' at the end of their names compared to their names in 'edges.csv'.\n",
    "        - The hero name 'SPIDER-MAN/PETER PARKER' in 'edges.csv' has been changed to 'SPIDER-MAN/PETER PAR' in 'hero-network.csv' due to a string length    limit in 'hero-network.csv'.\n",
    "\n",
    "\n",
    "  2)  Some entries in the 'hero-network.csv' have the same hero in both columns. In the graph, these entries form a self-loop. Because a self-loop makes no sense in this network, you can safely remove those from the dataset.\n"
   ]
  },
  {
   "cell_type": "code",
   "execution_count": 2,
   "id": "f44fdce5-87f3-4629-a31c-dd3b41eef82e",
   "metadata": {},
   "outputs": [],
   "source": [
    "hero_df = pd.read_csv('hero-network.csv')\n",
    "edges_df = pd.read_csv('edges.csv')\n",
    "nodes_df = pd.read_csv('nodes.csv')"
   ]
  },
  {
   "cell_type": "markdown",
   "id": "e18fdac5-78d0-4c72-a699-82e35e399152",
   "metadata": {},
   "source": [
    "We decided to homogenize all the DFs since there are many words that are the same but with extra characters in the end\n",
    "and in the hero-network's DF there is a character limit of 20 digits.\n",
    "\n",
    "We report here some examples of the issues we could find"
   ]
  },
  {
   "cell_type": "code",
   "execution_count": 3,
   "id": "32009d19-f5bb-462a-a84b-1bcfa60a937f",
   "metadata": {},
   "outputs": [
    {
     "name": "stdout",
     "output_type": "stream",
     "text": [
      "True\n",
      "True\n",
      "True\n"
     ]
    }
   ],
   "source": [
    "print('SPIDER-MAN/PETER PAR' in hero_df.values)         #digits limit\n",
    "print('SPIDER-MAN/PETER PARKERKER' in nodes_df.values)  #with an extra \"KER\" in the end\n",
    "print('SPIDER-MAN/PETER PARKER' in edges_df.values)     "
   ]
  },
  {
   "cell_type": "markdown",
   "id": "ad41c54c",
   "metadata": {},
   "source": [
    "Trimming to the 20th character and removing final blank spaces or final \"/\" character"
   ]
  },
  {
   "cell_type": "code",
   "execution_count": 4,
   "id": "ab5343ab",
   "metadata": {},
   "outputs": [],
   "source": [
    "\n",
    "hero_df['hero1'] = hero_df['hero1'].apply(lambda x: x.rstrip('/ ')[:20])\n",
    "hero_df['hero2'] = hero_df['hero2'].apply(lambda x: x.rstrip('/ ')[:20])\n",
    "edges_df['hero'] = edges_df['hero'].apply(lambda x: x.rstrip('/ ')[:20])\n",
    "edges_df['comic'] = edges_df['comic'].apply(lambda x: x.rstrip('/ ')[:20])\n",
    "nodes_df['node'] = nodes_df['node'].apply(lambda x: x.rstrip('/ ')[:20])\n"
   ]
  },
  {
   "cell_type": "markdown",
   "id": "1061e342",
   "metadata": {},
   "source": [
    "Let's check if the are any anomalies in our data now that we have formatted them."
   ]
  },
  {
   "cell_type": "code",
   "execution_count": 5,
   "id": "bde697c0",
   "metadata": {},
   "outputs": [
    {
     "name": "stdout",
     "output_type": "stream",
     "text": [
      "True\n",
      "False\n",
      "False\n"
     ]
    }
   ],
   "source": [
    "print('SPIDER-MAN/PETER PAR' in hero_df.values)         #digits limit\n",
    "print('SPIDER-MAN/PETER PARKERKER' in nodes_df.values)  #with an extra \"KER\" in the end\n",
    "print('SPIDER-MAN/PETER PARKER' in edges_df.values)"
   ]
  },
  {
   "cell_type": "markdown",
   "id": "b938d39e",
   "metadata": {},
   "source": [
    "Now let's remove the rows from the hero_df wich has the same hero in both columns."
   ]
  },
  {
   "cell_type": "code",
   "execution_count": 6,
   "id": "fbcabffc",
   "metadata": {},
   "outputs": [],
   "source": [
    "hero_df.drop(hero_df[hero_df['hero1'] == hero_df['hero2']].index, inplace = True)"
   ]
  },
  {
   "cell_type": "markdown",
   "id": "2e41efda-c3f9-4094-ac5d-d108953b75ed",
   "metadata": {},
   "source": [
    "## **Graphs setup**"
   ]
  },
  {
   "cell_type": "markdown",
   "id": "fef24d6b-b6f5-4765-aca1-238e18635f49",
   "metadata": {},
   "source": [
    "First graph: Will be constructed using the data stored in the 'hero-network.csv' file, in which an edge between two heroes can be found if they have appeared in the same comic together. The number of edges between two heroes represents the number of times they have collaborated in different comics. The graph should be considered weighted and undirected. It is up to you to decide which metric to use to calculate the weights, but we anticipate that the cost will be lower for heroes with more collaborations. Please specify which metric you used to select the weights in the report."
   ]
  },
  {
   "cell_type": "markdown",
   "id": "3675c74c",
   "metadata": {},
   "source": [
    "We group by the hero1 and hero2 on the hero_df to obtain the number of occurencies between to nodes, which corresponds to the number of times a hero collaborated with another hero. The we obtain a new dataset from this operation, in fact we need the 'weight' variable in our dataset."
   ]
  },
  {
   "cell_type": "code",
   "execution_count": 7,
   "id": "916d825d",
   "metadata": {},
   "outputs": [],
   "source": [
    "count_hero_df = hero_df.groupby([\"hero1\", \"hero2\"]).size().reset_index(name='weight')"
   ]
  },
  {
   "cell_type": "markdown",
   "id": "ccf04cd1",
   "metadata": {},
   "source": [
    "We set the weight to be 1/n because it has to be inversely related to the number of times each hero collaborted with another hero. In this way heroes who got lot of collaborations will be penalized."
   ]
  },
  {
   "cell_type": "code",
   "execution_count": 8,
   "id": "ac9f1328",
   "metadata": {},
   "outputs": [],
   "source": [
    "count_hero_df['weight'] = count_hero_df['weight'].apply(lambda x: 1/x)"
   ]
  },
  {
   "cell_type": "code",
   "execution_count": 9,
   "id": "d3652f82",
   "metadata": {},
   "outputs": [
    {
     "data": {
      "text/html": [
       "<div>\n",
       "<style scoped>\n",
       "    .dataframe tbody tr th:only-of-type {\n",
       "        vertical-align: middle;\n",
       "    }\n",
       "\n",
       "    .dataframe tbody tr th {\n",
       "        vertical-align: top;\n",
       "    }\n",
       "\n",
       "    .dataframe thead th {\n",
       "        text-align: right;\n",
       "    }\n",
       "</style>\n",
       "<table border=\"1\" class=\"dataframe\">\n",
       "  <thead>\n",
       "    <tr style=\"text-align: right;\">\n",
       "      <th></th>\n",
       "      <th>hero1</th>\n",
       "      <th>hero2</th>\n",
       "      <th>weight</th>\n",
       "    </tr>\n",
       "  </thead>\n",
       "  <tbody>\n",
       "    <tr>\n",
       "      <th>0</th>\n",
       "      <td>24-HOUR MAN/EMMANUEL</td>\n",
       "      <td>FROST, CARMILLA</td>\n",
       "      <td>1.0</td>\n",
       "    </tr>\n",
       "    <tr>\n",
       "      <th>1</th>\n",
       "      <td>24-HOUR MAN/EMMANUEL</td>\n",
       "      <td>KILLRAVEN/JONATHAN R</td>\n",
       "      <td>1.0</td>\n",
       "    </tr>\n",
       "    <tr>\n",
       "      <th>2</th>\n",
       "      <td>24-HOUR MAN/EMMANUEL</td>\n",
       "      <td>M'SHULLA</td>\n",
       "      <td>1.0</td>\n",
       "    </tr>\n",
       "    <tr>\n",
       "      <th>3</th>\n",
       "      <td>3-D MAN/CHARLES CHAN</td>\n",
       "      <td>ANGEL/WARREN KENNETH</td>\n",
       "      <td>1.0</td>\n",
       "    </tr>\n",
       "    <tr>\n",
       "      <th>4</th>\n",
       "      <td>3-D MAN/CHARLES CHAN</td>\n",
       "      <td>ANT-MAN II/SCOTT HAR</td>\n",
       "      <td>1.0</td>\n",
       "    </tr>\n",
       "    <tr>\n",
       "      <th>...</th>\n",
       "      <td>...</td>\n",
       "      <td>...</td>\n",
       "      <td>...</td>\n",
       "    </tr>\n",
       "    <tr>\n",
       "      <th>224094</th>\n",
       "      <td>ZZZAX</td>\n",
       "      <td>RODRIGUEZ, DEBRA</td>\n",
       "      <td>1.0</td>\n",
       "    </tr>\n",
       "    <tr>\n",
       "      <th>224095</th>\n",
       "      <td>ZZZAX</td>\n",
       "      <td>ROSS, GEN. THADDEUS</td>\n",
       "      <td>0.5</td>\n",
       "    </tr>\n",
       "    <tr>\n",
       "      <th>224096</th>\n",
       "      <td>ZZZAX</td>\n",
       "      <td>SUMMERS, NATHAN CHRI</td>\n",
       "      <td>1.0</td>\n",
       "    </tr>\n",
       "    <tr>\n",
       "      <th>224097</th>\n",
       "      <td>ZZZAX</td>\n",
       "      <td>TIGRA/GREER NELSON</td>\n",
       "      <td>1.0</td>\n",
       "    </tr>\n",
       "    <tr>\n",
       "      <th>224098</th>\n",
       "      <td>ZZZAX</td>\n",
       "      <td>WONDER MAN/SIMON WIL</td>\n",
       "      <td>1.0</td>\n",
       "    </tr>\n",
       "  </tbody>\n",
       "</table>\n",
       "<p>224099 rows × 3 columns</p>\n",
       "</div>"
      ],
      "text/plain": [
       "                       hero1                 hero2  weight\n",
       "0       24-HOUR MAN/EMMANUEL       FROST, CARMILLA     1.0\n",
       "1       24-HOUR MAN/EMMANUEL  KILLRAVEN/JONATHAN R     1.0\n",
       "2       24-HOUR MAN/EMMANUEL              M'SHULLA     1.0\n",
       "3       3-D MAN/CHARLES CHAN  ANGEL/WARREN KENNETH     1.0\n",
       "4       3-D MAN/CHARLES CHAN  ANT-MAN II/SCOTT HAR     1.0\n",
       "...                      ...                   ...     ...\n",
       "224094                 ZZZAX      RODRIGUEZ, DEBRA     1.0\n",
       "224095                 ZZZAX   ROSS, GEN. THADDEUS     0.5\n",
       "224096                 ZZZAX  SUMMERS, NATHAN CHRI     1.0\n",
       "224097                 ZZZAX    TIGRA/GREER NELSON     1.0\n",
       "224098                 ZZZAX  WONDER MAN/SIMON WIL     1.0\n",
       "\n",
       "[224099 rows x 3 columns]"
      ]
     },
     "execution_count": 9,
     "metadata": {},
     "output_type": "execute_result"
    }
   ],
   "source": [
    "count_hero_df"
   ]
  },
  {
   "cell_type": "markdown",
   "id": "675a0d57",
   "metadata": {},
   "source": [
    "Now we can create a 'weighted graph' using the weight we calculated as our edge attribute."
   ]
  },
  {
   "cell_type": "code",
   "execution_count": 10,
   "id": "c9fa5437",
   "metadata": {},
   "outputs": [],
   "source": [
    "G_hero_net = nx.from_pandas_edgelist(count_hero_df, 'hero1', 'hero2', edge_attr='weight', create_using=nx.MultiGraph)"
   ]
  },
  {
   "cell_type": "code",
   "execution_count": 11,
   "id": "b5570683",
   "metadata": {},
   "outputs": [
    {
     "data": {
      "text/plain": [
       "AtlasView({0: {'weight': 1.0}})"
      ]
     },
     "execution_count": 11,
     "metadata": {},
     "output_type": "execute_result"
    }
   ],
   "source": [
    "G_hero_net['ZZZAX']['RODRIGUEZ, DEBRA']"
   ]
  },
  {
   "cell_type": "markdown",
   "id": "0ca9ea69-ba1f-402c-b5f7-c8cd1ae4cd8e",
   "metadata": {},
   "source": [
    "**Second graph** : The data in 'nodes.csv' and 'edges.csv' will be used to construct the second graph. The type of node (hero/comic) can be found in 'nodes.csv', and an edge between a hero node and a comic node can be found in 'edges.csv' when the hero has appeared in that specific comic. This graph is assumed to be undirected and unweighted."
   ]
  },
  {
   "cell_type": "markdown",
   "id": "0c9967fb",
   "metadata": {},
   "source": [
    "We need to set the 'node' column as index of the nodes_df dataframe in order to proceed with our request.\n"
   ]
  },
  {
   "cell_type": "code",
   "execution_count": 12,
   "id": "141959ba",
   "metadata": {},
   "outputs": [
    {
     "name": "stdout",
     "output_type": "stream",
     "text": [
      "19090\n",
      "19087\n"
     ]
    }
   ],
   "source": [
    "print(len(nodes_df))\n",
    "print(len(nodes_df.node.unique()))"
   ]
  },
  {
   "cell_type": "markdown",
   "id": "8c884fa8",
   "metadata": {},
   "source": [
    "We see that there are only 3 non unique values in the 'node' column se we decided to drop them to mantain the dataframe consistency."
   ]
  },
  {
   "cell_type": "code",
   "execution_count": 13,
   "id": "fec734e7",
   "metadata": {},
   "outputs": [],
   "source": [
    "nodes_df = nodes_df.drop_duplicates(subset=['node'])"
   ]
  },
  {
   "cell_type": "markdown",
   "id": "cbd96f87",
   "metadata": {},
   "source": [
    "We transform the node column in the new index of the dataframe and we transform it in a dictionary."
   ]
  },
  {
   "cell_type": "code",
   "execution_count": 14,
   "id": "f7e709fc",
   "metadata": {},
   "outputs": [],
   "source": [
    "nodes_attr = nodes_df.set_index('node').to_dict(orient = 'index')"
   ]
  },
  {
   "cell_type": "markdown",
   "id": "d66def3d",
   "metadata": {},
   "source": [
    "Now we can proceed with the creation of the second graph. First we create a new graph starting from the edges dataframe and then we select the nodes_attr dictionary to be the attributes of our nodes."
   ]
  },
  {
   "cell_type": "code",
   "execution_count": 15,
   "id": "26c35798",
   "metadata": {},
   "outputs": [],
   "source": [
    "G_edges_net = nx.from_pandas_edgelist(edges_df, 'hero', 'comic')\n",
    "nx.set_node_attributes(G_edges_net, nodes_attr)"
   ]
  },
  {
   "cell_type": "code",
   "execution_count": 16,
   "id": "9a83ec47",
   "metadata": {},
   "outputs": [
    {
     "data": {
      "text/plain": [
       "{'type': 'hero'}"
      ]
     },
     "execution_count": 16,
     "metadata": {},
     "output_type": "execute_result"
    }
   ],
   "source": [
    "G_edges_net.nodes['VENUS II']"
   ]
  },
  {
   "cell_type": "markdown",
   "id": "7f977171-c0c1-4597-93bd-9c82579af4f9",
   "metadata": {},
   "source": [
    "# 2. ***Backend Implementation***"
   ]
  },
  {
   "cell_type": "markdown",
   "id": "06e883c9-9337-4547-bc98-e8cd30587ce6",
   "metadata": {},
   "source": [
    "The goal of this part is the implementation of a controller system that has different functionalities. The controller should take as input an identifier \"i\" and run the associated function_i applied to the graph you create from the downloaded data.\n",
    "\n",
    "Definition: As the number of nodes and edges grows, we may request to work on a subset of the data to reduce computation time and improve network visualization. In this case, we will ask you only to consider the data for top N heros. We define the top N heroes as follows:\n",
    "\n",
    "* Top N heroes: The top N heroes who have appeared in the most number of comics. The 'edges.csv' file, which represents the comics in which each hero has appeared, can be used to filter these N heroes.\n",
    "\n",
    "Note: When the value of N is not set by the user, the function should consider the whole data.\n",
    "Functionality 1 - extract the graph's features"
   ]
  },
  {
   "cell_type": "markdown",
   "id": "6ae64674",
   "metadata": {},
   "source": [
    "## ***Functionality 1 - Extract the graph's features***"
   ]
  },
  {
   "cell_type": "markdown",
   "id": "de9f0492",
   "metadata": {},
   "source": [
    "**Input**: \n",
    "* The graph data\n",
    "* The graph type (ex number 1 or number 2)\n",
    "* N: denoting the top N heroes that their data should be considered\n",
    "\n",
    "**Output**:\n",
    "\n",
    "* The number of nodes in the network (if type 2, report for both node types)\n",
    "* The number of collaborations of each superhero with the others (only if type 1)\n",
    "* The number of heroes that have appeared in each comic (only if type 2)\n",
    "* The network's density\n",
    "* The network's degree distribution\n",
    "* The average degree of the network\n",
    "* The network's Hubs (hubs are nodes having degrees more extensive than the 95th percentile of the degree distribution)\n",
    "* Whether the Network is sparse or dense"
   ]
  },
  {
   "cell_type": "code",
   "execution_count": 17,
   "id": "1cb3cb0f-8ee3-42ab-8cad-e2537c9359d8",
   "metadata": {},
   "outputs": [],
   "source": [
    "def TOP_N(N,G_hero_net,edges_df):\n",
    "    subnodes=set([el for el in edges_df.groupby('hero').count().sort_values(by=['comic'],ascending=False).head(N).index])\n",
    "    return G_hero_net.subgraph(subnodes)"
   ]
  },
  {
   "cell_type": "code",
   "execution_count": 18,
   "id": "9f246e8c-f4ee-468f-acfd-6eeed8a37853",
   "metadata": {},
   "outputs": [],
   "source": [
    "def Number_of_nodes(graph_type,graph):\n",
    "    if graph_type == 1 :\n",
    "        print(f\"The graph have \" + str(graph.number_of_nodes()) +  \" nodes\")\n",
    "        return\n",
    "    elif graph_type == 2 :\n",
    "        comic=0\n",
    "        hero=0\n",
    "        attr=nx.get_node_attributes(graph,'type')\n",
    "        for k in graph.nodes:\n",
    "            if (attr[k]=='comic'):\n",
    "                comic+=1\n",
    "            else:\n",
    "                hero+=1\n",
    "        print(f\"The graph have \" + str(comic) +  \" nodes of type: COMIC\")\n",
    "        print(f\"The graph have \" + str(hero) +  \" nodes of type: HERO\")\n",
    "        return \n",
    "    else:\n",
    "        return ('Wrong type number')"
   ]
  },
  {
   "cell_type": "code",
   "execution_count": 19,
   "id": "c7b1e509-ad20-4173-9248-f1223ae0f4f8",
   "metadata": {},
   "outputs": [],
   "source": [
    "def number_of_collaborations(graph_type,graph):\n",
    "    if graph_type!=1:\n",
    "        print('Valid only for type 1')\n",
    "        return\n",
    "    else:\n",
    "        for node in graph:\n",
    "            print( node + \" has \" + str(graph.degree(node)) + \" collaborations.\")\n",
    "        return\n",
    "    "
   ]
  },
  {
   "cell_type": "code",
   "execution_count": 20,
   "id": "77f080fd-2640-468c-8dd1-112654404514",
   "metadata": {},
   "outputs": [],
   "source": [
    "def number_of_hero_in_each_comic(graph_type):\n",
    "    if graph_type!=2:\n",
    "        print('number_of_hero_in_each_comic: Valid only for type 2')\n",
    "\n",
    "        return\n",
    "    else:\n",
    "        attr=nx.get_node_attributes(G_edges_net,'type')\n",
    "        List_hero=[i for i in G_edges_net.nodes if attr[i]=='hero']\n",
    "        tmp=0\n",
    "        for hero in List_hero:\n",
    "            if G_edges_net.degree(hero)==12651:\n",
    "                print( hero + \" has appeared in each comic\")\n",
    "                tmp+=1\n",
    "        return tmp"
   ]
  },
  {
   "cell_type": "code",
   "execution_count": 21,
   "id": "6e0aa726-55a0-4935-99bb-599f2d47160a",
   "metadata": {},
   "outputs": [],
   "source": [
    "def degree_distribution(graph):\n",
    "    deg = [graph.degree(n) for n in graph.nodes()]\n",
    "    deg_count = Counter(deg)\n",
    "    return deg_count"
   ]
  },
  {
   "cell_type": "code",
   "execution_count": 22,
   "id": "e86aca6d-08c5-4b7b-8be5-8881b8e3844d",
   "metadata": {},
   "outputs": [],
   "source": [
    "def degree_mean(graph):\n",
    "    deg = [graph.degree(n) for n in graph.nodes()]\n",
    "    return mean(deg)"
   ]
  },
  {
   "cell_type": "code",
   "execution_count": 23,
   "id": "ac06611d-e740-4528-80d0-5d3be4e75539",
   "metadata": {},
   "outputs": [],
   "source": [
    "def nodes_hubs(graph):\n",
    "    deg = [graph.degree(n) for n in graph.nodes()]\n",
    "    percentile = np.percentile(deg, 95)\n",
    "\n",
    "    return [n for n in graph.nodes() if graph.degree(n) > percentile]"
   ]
  },
  {
   "cell_type": "code",
   "execution_count": 24,
   "id": "77d440d5-ff81-45db-892e-342c8571b55d",
   "metadata": {},
   "outputs": [],
   "source": [
    "def graph_density(graph):\n",
    "    nodes_count = graph.number_of_nodes()\n",
    "    max_edges = nodes_count * (nodes_count - 1) / 2\n",
    "    edges_count = graph.number_of_edges()\n",
    "    density = edges_count/ max_edges\n",
    "    return density"
   ]
  },
  {
   "cell_type": "code",
   "execution_count": 25,
   "id": "5cd0440b-0bbf-426f-9aa6-880754a58bc2",
   "metadata": {},
   "outputs": [],
   "source": [
    "def Functionality_1(graph,graph_type,N=6421): \n",
    "    if (N!=6421 and graph_type==1):\n",
    "        graph=TOP_N(N,G_hero_net,edges_df)\n",
    "    \n",
    "    Number_of_nodes(graph_type,graph)\n",
    "    print('\\n')\n",
    "    number_of_collaborations(graph_type,graph)\n",
    "    print('\\n')\n",
    "    number_of_hero_in_each_comic(graph_type)\n",
    "    print('\\n')\n",
    "    dens=graph_density(graph)\n",
    "    print('The degree distribution is',degree_distribution(graph))\n",
    "    print('\\n')\n",
    "    print('The average degree is',degree_mean(graph))\n",
    "    print('\\n')\n",
    "    print('The node hubs are',nodes_hubs(graph))\n",
    "    print('\\n')\n",
    "    print('The density is',dens)\n",
    "    print('\\n')\n",
    "    if dens>=0.5:\n",
    "        print('The graph is dense')\n",
    "    else:\n",
    "        print('The graph is sparse')\n",
    "    \n",
    "    return"
   ]
  },
  {
   "cell_type": "code",
   "execution_count": 26,
   "id": "6d4717dc-e6be-4e77-81e9-126d6437a1c1",
   "metadata": {},
   "outputs": [
    {
     "name": "stdout",
     "output_type": "stream",
     "text": [
      "The graph have 10 nodes\n",
      "\n",
      "\n",
      "HULK/DR. ROBERT BRUC has 18 collaborations.\n",
      "THING/BENJAMIN J. GR has 18 collaborations.\n",
      "THOR/DR. DONALD BLAK has 18 collaborations.\n",
      "MR. FANTASTIC/REED R has 18 collaborations.\n",
      "INVISIBLE WOMAN/SUE has 18 collaborations.\n",
      "SPIDER-MAN/PETER PAR has 18 collaborations.\n",
      "CAPTAIN AMERICA has 18 collaborations.\n",
      "WOLVERINE/LOGAN has 18 collaborations.\n",
      "HUMAN TORCH/JOHNNY S has 18 collaborations.\n",
      "IRON MAN/TONY STARK has 18 collaborations.\n",
      "\n",
      "\n",
      "number_of_hero_in_each_comic: Valid only for type 2\n",
      "\n",
      "\n",
      "The degree distribution is Counter({18: 10})\n",
      "\n",
      "\n",
      "The average degree is 18\n",
      "\n",
      "\n",
      "The node hubs are []\n",
      "\n",
      "\n",
      "The density is 2.0\n",
      "\n",
      "\n",
      "The graph is dense\n"
     ]
    }
   ],
   "source": [
    "Functionality_1(G_hero_net,1,N=10)"
   ]
  },
  {
   "attachments": {},
   "cell_type": "markdown",
   "id": "d6adf0a7-429e-4cd3-96a1-53a3c7dc2b30",
   "metadata": {},
   "source": [
    "## Functionality 2 - Find top superheroes!"
   ]
  },
  {
   "attachments": {},
   "cell_type": "markdown",
   "id": "691d891c",
   "metadata": {},
   "source": [
    "\n",
    "*Input*:\n",
    "* The graph data\n",
    "* A node (hero or comic)\n",
    "* One of the given metrics : *Betweeness, PageRank, ClosenessCentrality, DegreeCentrality*\n",
    "* N: denoting the top N heroes that their data should be considered\n",
    "\n",
    "*Output*:\n",
    "* The metric's value over the considered graph\n",
    "* The given node's value\n",
    "\n",
    "Note: Give an explanation regarding the features of the user based on all of the metrics (e.g. if the betweenness metric is high, what does this mean in practice, what if the betweenness is low but has a high PageRank value, etc.)."
   ]
  },
  {
   "attachments": {},
   "cell_type": "markdown",
   "id": "a18b8c9e",
   "metadata": {},
   "source": [
    "###  Metrics"
   ]
  },
  {
   "attachments": {},
   "cell_type": "markdown",
   "id": "5de18c44",
   "metadata": {},
   "source": [
    "* **Degree centrality**:\n",
    "\n",
    "   The degree centrality of a node in a graph is a measure of the importance of that node in the graph. It is defined as the number of edges incident to the node, i.e., the number of neighbors it has. In other words, it is the number of connections a node has in the graph. The degree centrality of a node can be calculated as:\n",
    "   \n",
    "   $ Degree\\,Centrality = \\frac{number\\,\\,of\\,\\,neighbors}{number\\,of\\,nodes\\, -\\, 1} $\n",
    "\n",
    "   Nodes with high degree centrality are often considered important or influential in the graph, as they have a large number of connections and may be able to spread information or influence other nodes more effectively."
   ]
  },
  {
   "attachments": {},
   "cell_type": "markdown",
   "id": "a92920db",
   "metadata": {},
   "source": [
    "\n",
    "* **Betweenness centrality**:\n",
    "\n",
    "   The betweenness centrality of a node in a graph is a measure of the importance of that node in terms of the number of shortest paths that pass through it. It is defined as the fraction of all shortest paths in the graph that pass through the node. In other words, it is a measure of the node's centrality in terms of the connectivity of the graph.\n",
    "   The betweenness centrality of a node can be calculated as:\n",
    "\n",
    "   $ Betweenness\\,centrality = \\frac{num\\,of\\,shortest\\,path\\,passing\\,through\\,the\\,node}{total\\,num\\,of\\,shortest\\,paths\\,in\\,the\\,graph}$\n",
    "   \n",
    "   Nodes with high betweenness centrality are often considered important or influential in the graph, as they are more likely to be on the shortest path between other nodes and may be able to control the flow of information or influence other nodes more effectively."
   ]
  },
  {
   "attachments": {},
   "cell_type": "markdown",
   "id": "adc59e69",
   "metadata": {},
   "source": [
    "* **Closeness centrality** :\n",
    "\n",
    "    The closeness centrality of a node in the graph is a measure of the importance of that node in terms of its ability to reach other nodes in the graph. It is defined as the reciprocal of the sum of the shortest path distances from the node to all other nodes in the graph. In other words, it is a measure of the node's centrality in terms of its proximity to other nodes.The closeness centrality can be calculated as:\n",
    "\n",
    "    $ Closeness\\,centrality = \\frac{1}{sum\\,of\\,the\\,shortest\\,path\\,distances\\,from\\,the\\,node\\,to\\,all\\,other\\,nodes}$ \n",
    "\n",
    "    Nodes with high closeness centrality are often considered important or influential in the graph, as they are able to reach other nodes quickly and may be able to spread information or influence other nodes more effectively."
   ]
  },
  {
   "attachments": {},
   "cell_type": "markdown",
   "id": "b9ce618a",
   "metadata": {},
   "source": [
    "* **Page rank**:\n",
    "\n",
    "    The page rank algorithm is a way to measuring the importance or ranking of nodes in a network. In the context of a network, the PageRank of a node is a measure of the importance of that node based on the number and quality of the edges pointing to it. Nodes with a higher PageRank are considered more important and are more likely to appear at the top of search results.\n",
    "    \n",
    "    To calculate the PageRank of the nodes in a network, the algorithm follows these steps:\n",
    "    * First of all we need to transform our graph in a directed graph.\n",
    "    * We need to assign a initial PageRank score to each node.\n",
    "    * Then we need to iteratively update the PageRank score of each node based on the PageRank score of the nodes that link to it. Specifically, the PageRank of a node is equal to the sum of the PageRanks of the nodes that link to it, divided by the number of outbound links from each of those nodes.\n",
    "    We also need to use a damping factor in order to avoid infinite loops and allow the algorithm to converge.\n",
    "    * We need to repeat the previous step until the score converge."
   ]
  },
  {
   "attachments": {},
   "cell_type": "markdown",
   "id": "bd147e57",
   "metadata": {},
   "source": [
    "### Correlation between different metrics"
   ]
  },
  {
   "attachments": {},
   "cell_type": "markdown",
   "id": "893c3153",
   "metadata": {},
   "source": [
    "The correlation between different network metrics will depend on the specific characteristics of the network and the definition of the metrics. In general, different metrics may capture different aspects of the network and may not be strongly correlated.\n",
    "\n",
    "For example, **degree centrality** measures the number of connections a node has, while **betweenness centrality** measures the number of times a node acts as a \"bridge\" between other nodes in the network. These two metrics may not be strongly correlated, as they capture different aspects of the network.\n",
    "\n",
    "In the same way, also the **closeness centrality** capture another different aspect of the network, in fact this metric is a measure of the average distance of a node to all other nodes in the network. High closeness centrality indicates a node that is considered to be central to our network.\n",
    "\n",
    "Similarly, **PageRank**, which is a measure of the importance or ranking of a node based on the number and quality of the links pointing to it, may not be strongly correlated with other metrics such as degree centrality or betweenness centrality."
   ]
  },
  {
   "cell_type": "code",
   "execution_count": 53,
   "id": "144c97b3",
   "metadata": {},
   "outputs": [],
   "source": [
    "#TODO: Fasten up betweeness, closeness and degree if it is possible."
   ]
  },
  {
   "cell_type": "code",
   "execution_count": 39,
   "id": "9988b478",
   "metadata": {},
   "outputs": [],
   "source": [
    "damping_factor = 0.85\n",
    "\n",
    "def compute_pagerank(graph, pagerank):\n",
    "    for node in graph:\n",
    "        rank = 1- damping_factor\n",
    "        for neighbor in graph[node]:\n",
    "            rank += damping_factor * pagerank[neighbor] / len(graph[neighbor])\n",
    "            pagerank[node] = rank\n",
    "    return pagerank"
   ]
  },
  {
   "cell_type": "code",
   "execution_count": 40,
   "id": "36b58431",
   "metadata": {},
   "outputs": [],
   "source": [
    "def page_rank_metric(graph):\n",
    "    directed_graph = graph.to_directed()\n",
    "    pagerank = {node: 1/len(directed_graph) for node in directed_graph}\n",
    "    while True:\n",
    "        prev_rank = pagerank.copy()\n",
    "        pagerank = compute_pagerank(directed_graph, pagerank)\n",
    "        if all(abs(prev_rank[node] - pagerank[node]) < 0.001 for node in pagerank):\n",
    "            break\n",
    "    return (pagerank)"
   ]
  },
  {
   "cell_type": "code",
   "execution_count": 27,
   "id": "ecb22cec-173b-4fb8-aea4-d847da72286b",
   "metadata": {},
   "outputs": [],
   "source": [
    "def betweeness_metric(graph): #MAKE SURE TO CONSIDER ONLY A SUBGRAPH BECAUSE THIS ALGORITHM IN VERY SLOW\n",
    "    betweeness = {n: 0 for n in graph.nodes()}\n",
    "    for node in graph.nodes():\n",
    "        for destin in graph.nodes():\n",
    "            if destin!=node:\n",
    "                paths = list(nx.all_shortest_paths(graph, node, destin))\n",
    "                for key in paths:\n",
    "                    for value in paths:\n",
    "                        if key!=value:\n",
    "                            for n in paths[(key, value)]:\n",
    "                                betweeness[n] += 1 / len(paths[(key, value)])\n",
    "    return betweeness\n"
   ]
  },
  {
   "cell_type": "code",
   "execution_count": 28,
   "id": "96335c5c-6ea5-4d72-b729-46b7c5587a9a",
   "metadata": {},
   "outputs": [],
   "source": [
    "def closeness_metric(graph):\n",
    "    closeness = {n: 0 for n in graph.nodes()}\n",
    "    for node in graph.nodes():\n",
    "        count=0\n",
    "        for destin in graph.nodes():\n",
    "            if destin!=node:\n",
    "                count += len(list(nx.all_shortest_paths(graph, node, destin)))\n",
    "        closeness[node]=(len(graph.nodes())-1)/count   \n",
    "    return closeness"
   ]
  },
  {
   "cell_type": "code",
   "execution_count": 29,
   "id": "cd7bfb3e-e626-4382-a754-dbc3fdf0e18a",
   "metadata": {},
   "outputs": [],
   "source": [
    "def degree_metric(graph):\n",
    "    deg={n: 0 for n in graph.nodes()}\n",
    "    for node in graph.nodes():\n",
    "        deg[node]=graph.degree[node]/(len(graph.nodes())-1)\n",
    "    return deg #IF YOU COMPARE IT WITH THE BUILT IN FUNCTION THERE IS A DIFFERENCE OF e-16 IN THE VALUES, BASICALLY ARE THE SAME"
   ]
  },
  {
   "cell_type": "code",
   "execution_count": 48,
   "id": "cb11d55f-d53f-4a2c-8216-bcff417f3898",
   "metadata": {},
   "outputs": [],
   "source": [
    "def functionality_2(graph, node, metric, N=6421): #DO NOT USE IT WITH A BIG N, IT IS TOO SLOW\n",
    "    \n",
    "    if N!=6421:\n",
    "        graph=TOP_N(N,G_hero_net,edges_df)\n",
    "    print('The '+str(metric)+' is','\\n')\n",
    "    \n",
    "    if metric.lower()=='betweeness':\n",
    "        print(betweeness_metric(graph))\n",
    "        print('\\n')\n",
    "        print('The value for the node '+str(node)+' is: ',betweeness_metric(graph)[node])\n",
    "    elif metric.lower()=='pagerank':\n",
    "        print(page_rank_metric(graph))\n",
    "        print('\\n')       \n",
    "        print('The value for the node '+str(node)+' is: ',page_rank_metric(graph)[node])\n",
    "    elif metric.lower()=='closenesscentrality':\n",
    "        print(closeness_metric(graph))\n",
    "        print('\\n')\n",
    "        print('The value for the node '+str(node)+' is: ',closeness_metric(graph)[node])        \n",
    "    elif metric.lower()=='degreecentrality':\n",
    "        print(degree_metric(graph)) \n",
    "        print('\\n')\n",
    "        print('The value for the node '+str(node)+' is: ',degree_metric(graph)[node])         \n",
    "    else:\n",
    "        print('This metric is not included')\n",
    "    return\n",
    "   \n",
    "    "
   ]
  },
  {
   "cell_type": "code",
   "execution_count": 51,
   "id": "48cb13c6",
   "metadata": {},
   "outputs": [
    {
     "name": "stdout",
     "output_type": "stream",
     "text": [
      "The pagerank is \n",
      "\n",
      "{'PROFESSOR X/CHARLES': 0.992902705755964, 'WONDER MAN/SIMON WIL': 1.0128870934264516, 'JARVIS, EDWIN': 1.0129021535930094, 'WATSON-PARKER, MARY': 0.9533709591131375, 'INVISIBLE WOMAN/SUE': 1.0129318272448404, 'SPIDER-MAN/PETER PAR': 1.012946573282, 'JAMESON, J. JONAH': 0.9930006977227123, 'SHADOWCAT/KATHERINE': 0.9137379049089402, 'CYCLOPS/SCOTT SUMMER': 1.0129901701248862, 'QUICKSILVER/PIETRO M': 0.9931763875941791, 'CANNONBALL II/SAM GU': 0.9338999796954497, 'ODIN [ASGARDIAN]': 0.9141324939098797, 'FURY, COL. NICHOLAS': 0.9931561950713027, 'ANGEL/WARREN KENNETH': 1.0130609036405598, 'PARKER, MAY': 0.9337897479962868, 'ICEMAN/ROBERT BOBBY': 1.013088569464303, 'SHE-HULK/JENNIFER WA': 1.0131022148277247, 'HULK/DR. ROBERT BRUC': 1.0131157643708038, 'THING/BENJAMIN J. GR': 1.013129218766409, 'ANT-MAN/DR. HENRY J.': 1.013142578682684, 'HERCULES [GREEK GOD]': 0.9932511403083025, 'SCARLET WITCH/WANDA': 1.0131690498924886, 'HUMAN TORCH/JOHNNY S': 1.013182130107005, \"BLACK PANTHER/T'CHAL\": 0.9932880875549969, 'DR. STRANGE/STEPHEN': 1.013208035751206, 'HAWK': 1.0132208421995925, 'NIGHTCRAWLER/KURT WA': 0.9932499916328487, 'VISION': 1.0132462003315235, 'SILVER SURFER/NORRIN': 1.0132587387809533, 'WASP/JANET VAN DYNE': 1.0132711891830017, 'CAPTAIN AMERICA': 1.013283552155954, 'WOLVERINE/LOGAN': 1.013295828313754, 'BEAST/HENRY &HANK& P': 1.0133080182660343, 'MARVEL GIRL/JEAN GRE': 1.0133201226181465, 'IRON MAN/TONY STARK': 1.0133321419711911, 'ROGUE': 0.993360443459397, 'COLOSSUS II/PETER RA': 1.0133559248836077, 'ROBERTSON, JOE': 0.953706014663202, 'JONES, RICHARD MILHO': 0.9935442156630994, 'THOR/DR. DONALD BLAK': 1.0133909540417665, 'SUB-MARINER/NAMOR MA': 1.013402476003055, 'MR. FANTASTIC/REED R': 1.0134139170549357, 'DAREDEVIL/MATT MURDO': 0.9935181086179452, 'STORM/ORORO MUNROE S': 1.0134365422312768, 'BLACK WIDOW/NATASHA': 1.0134477440636103}\n",
      "\n",
      "\n",
      "The value for the node SCARLET WITCH/WANDA is:  1.0131690498924886\n"
     ]
    }
   ],
   "source": [
    "functionality_2(G_hero_net, 'SCARLET WITCH/WANDA', 'pagerank', 45)"
   ]
  },
  {
   "cell_type": "code",
   "execution_count": 52,
   "id": "f0eaf138-5905-40ae-a218-223e921d2be6",
   "metadata": {},
   "outputs": [
    {
     "name": "stdout",
     "output_type": "stream",
     "text": [
      "The DegreeCentrality is \n",
      "\n",
      "{'PROFESSOR X/CHARLES': 1.9090909090909092, 'WONDER MAN/SIMON WIL': 1.9090909090909092, 'JARVIS, EDWIN': 1.9318181818181819, 'WATSON-PARKER, MARY': 1.6363636363636365, 'INVISIBLE WOMAN/SUE': 2.0, 'SPIDER-MAN/PETER PAR': 2.0, 'JAMESON, J. JONAH': 1.9090909090909092, 'SHADOWCAT/KATHERINE': 1.7272727272727273, 'CYCLOPS/SCOTT SUMMER': 1.9545454545454546, 'QUICKSILVER/PIETRO M': 1.9090909090909092, 'CANNONBALL II/SAM GU': 1.5909090909090908, 'ODIN [ASGARDIAN]': 1.5454545454545454, 'FURY, COL. NICHOLAS': 1.9318181818181819, 'ANGEL/WARREN KENNETH': 1.9318181818181819, 'PARKER, MAY': 1.4318181818181819, 'ICEMAN/ROBERT BOBBY': 2.0, 'SHE-HULK/JENNIFER WA': 1.9772727272727273, 'HULK/DR. ROBERT BRUC': 2.0, 'THING/BENJAMIN J. GR': 2.0, 'ANT-MAN/DR. HENRY J.': 1.9772727272727273, 'HERCULES [GREEK GOD]': 1.9545454545454546, 'SCARLET WITCH/WANDA': 1.9772727272727273, 'HUMAN TORCH/JOHNNY S': 2.0, \"BLACK PANTHER/T'CHAL\": 1.9318181818181819, 'DR. STRANGE/STEPHEN': 1.9772727272727273, 'HAWK': 1.9772727272727273, 'NIGHTCRAWLER/KURT WA': 1.9318181818181819, 'VISION': 1.9545454545454546, 'SILVER SURFER/NORRIN': 1.9090909090909092, 'WASP/JANET VAN DYNE': 2.0, 'CAPTAIN AMERICA': 2.0, 'WOLVERINE/LOGAN': 1.9545454545454546, 'BEAST/HENRY &HANK& P': 2.0, 'MARVEL GIRL/JEAN GRE': 1.9545454545454546, 'IRON MAN/TONY STARK': 1.9772727272727273, 'ROGUE': 1.8863636363636365, 'COLOSSUS II/PETER RA': 1.9090909090909092, 'ROBERTSON, JOE': 1.7045454545454546, 'JONES, RICHARD MILHO': 1.8863636363636365, 'THOR/DR. DONALD BLAK': 2.0, 'SUB-MARINER/NAMOR MA': 2.0, 'MR. FANTASTIC/REED R': 2.0, 'DAREDEVIL/MATT MURDO': 1.9545454545454546, 'STORM/ORORO MUNROE S': 1.9772727272727273, 'BLACK WIDOW/NATASHA': 1.9090909090909092}\n",
      "\n",
      "\n",
      "The value for the node SCARLET WITCH/WANDA is:  1.9772727272727273\n"
     ]
    }
   ],
   "source": [
    "functionality_2(G_hero_net,'SCARLET WITCH/WANDA','DegreeCentrality',45)"
   ]
  },
  {
   "attachments": {},
   "cell_type": "markdown",
   "id": "008b8e6d-d675-4d6a-8745-0cce486708eb",
   "metadata": {},
   "source": [
    "## Functionality 3 - Shortest ordered Route\n",
    "\n",
    "**Input**:\n",
    "\n",
    "* The graph data\n",
    "* A sequence of superheroes h = [h_2, ..., h_n-1]\n",
    "* Initial node h_1 and an end node h_n\n",
    "* N: denoting the top N heroes that their data should be considered\n",
    "\n",
    "**Output**:\n",
    "\n",
    "* The shortest walk of comics that you need to read to get from hero_1 to hero_n\n",
    "\n",
    "Considerations: For this functionality, you need to implement an algorithm that returns the shortest walk that goes from node h_j to h_n, which visits in order the nodes in h. The choice of h_j and h_n can be made randomly (or if it improves the performance of the algorithm, you can also define it in any other way)\n",
    "\n",
    "**Important Notes**:\n",
    "\n",
    "* This algorithm should be run only on the second graph.\n",
    "* The algorithm needs to handle the case that the graph is not connected. Thus, only some of the nodes in h are reachable from h_1. In such a scenario, it is enough to let the program give in the output the string \"There is no such path\".\n",
    "* Since we are dealing with walks, you can pass on the same node h_i more than once, but you have to preserve order. E.g., if you start from Spiderman to reach deadpool, and your path requires you to visit iron-man and colossus, you can go back to any comics any time you want, assuming that the order in which you visit the heroes is still the same.\n"
   ]
  },
  {
   "cell_type": "code",
   "execution_count": null,
   "id": "d7e6aeb8-c538-4e5e-8ad7-e1640f5606ee",
   "metadata": {},
   "outputs": [],
   "source": []
  }
 ],
 "metadata": {
  "kernelspec": {
   "display_name": "base",
   "language": "python",
   "name": "python3"
  },
  "language_info": {
   "codemirror_mode": {
    "name": "ipython",
    "version": 3
   },
   "file_extension": ".py",
   "mimetype": "text/x-python",
   "name": "python",
   "nbconvert_exporter": "python",
   "pygments_lexer": "ipython3",
   "version": "3.9.12"
  },
  "vscode": {
   "interpreter": {
    "hash": "a547c398147e467c4c98718231cb6d0e62d8e2b53accc721dd4e7a51a91b9db2"
   }
  }
 },
 "nbformat": 4,
 "nbformat_minor": 5
}
