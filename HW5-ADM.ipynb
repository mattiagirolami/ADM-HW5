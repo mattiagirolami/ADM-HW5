{
 "cells": [
  {
   "cell_type": "code",
   "execution_count": 1,
   "id": "3895eeac-1677-4e51-861d-0abc0e3084ca",
   "metadata": {},
   "outputs": [],
   "source": [
    "import pandas as pd\n",
    "import numpy as np\n",
    "import networkx as nx\n",
    "import matplotlib.pyplot as plt"
   ]
  },
  {
   "attachments": {},
   "cell_type": "markdown",
   "id": "2cf0ccac-1b29-4f11-9c99-23baf6f0f6e1",
   "metadata": {},
   "source": [
    "# 1. ***Data***"
   ]
  },
  {
   "attachments": {},
   "cell_type": "markdown",
   "id": "fb9fa2fb",
   "metadata": {},
   "source": [
    "## **Data Preprocessing**"
   ]
  },
  {
   "attachments": {},
   "cell_type": "markdown",
   "id": "a81f8cab-239d-489e-88d0-b6be10de639f",
   "metadata": {},
   "source": [
    "As always, in the data science area, you can find some inconsistencies in the provided data. Therefore, some modifications should be made to the data to make it consistent across all of the datasets you have. To ensure consistency in the data, keep the following in mind:\n",
    "\n",
    "  1)  Some of the heroes' names in 'hero-network.csv' are not found in 'edges.csv'. This inconsistency exists for the following reasons:\n",
    "        - Some heroes' names in 'hero-netowrk.csv' have extra spaces at the end of their names compared to their names in 'edges.csv'.\n",
    "        - Some heroes' names in 'hero-netowrk.csv' have an extra '/' at the end of their names compared to their names in 'edges.csv'.\n",
    "        - The hero name 'SPIDER-MAN/PETER PARKER' in 'edges.csv' has been changed to 'SPIDER-MAN/PETER PAR' in 'hero-network.csv' due to a string length    limit in 'hero-network.csv'.\n",
    "\n",
    "\n",
    "  2)  Some entries in the 'hero-network.csv' have the same hero in both columns. In the graph, these entries form a self-loop. Because a self-loop makes no sense in this network, you can safely remove those from the dataset.\n"
   ]
  },
  {
   "cell_type": "code",
   "execution_count": 2,
   "id": "f44fdce5-87f3-4629-a31c-dd3b41eef82e",
   "metadata": {},
   "outputs": [],
   "source": [
    "hero_df = pd.read_csv('hero-network.csv')\n",
    "edges_df = pd.read_csv('edges.csv')\n",
    "nodes_df = pd.read_csv('nodes.csv')"
   ]
  },
  {
   "attachments": {},
   "cell_type": "markdown",
   "id": "e18fdac5-78d0-4c72-a699-82e35e399152",
   "metadata": {},
   "source": [
    "We decided to homogenize all the DFs since there are many words that are the same but with extra characters in the end\n",
    "and in the hero-network's DF there is a character limit of 20 digits.\n",
    "\n",
    "We report here some examples of the issues we could find"
   ]
  },
  {
   "cell_type": "code",
   "execution_count": 3,
   "id": "32009d19-f5bb-462a-a84b-1bcfa60a937f",
   "metadata": {},
   "outputs": [
    {
     "name": "stdout",
     "output_type": "stream",
     "text": [
      "True\n",
      "True\n",
      "True\n"
     ]
    }
   ],
   "source": [
    "print('SPIDER-MAN/PETER PAR' in hero_df.values)         #digits limit\n",
    "print('SPIDER-MAN/PETER PARKERKER' in nodes_df.values)  #with an extra \"KER\" in the end\n",
    "print('SPIDER-MAN/PETER PARKER' in edges_df.values)     "
   ]
  },
  {
   "attachments": {},
   "cell_type": "markdown",
   "id": "ad41c54c",
   "metadata": {},
   "source": [
    "Trimming to the 20th character and removing final blank spaces or final \"/\" character"
   ]
  },
  {
   "cell_type": "code",
   "execution_count": 4,
   "id": "ab5343ab",
   "metadata": {},
   "outputs": [],
   "source": [
    "hero_df['hero1'] = hero_df['hero1'].apply(lambda x: x.rstrip('/')[:20])\n",
    "hero_df['hero2'] = hero_df['hero2'].apply(lambda x: x.rstrip('/')[:20])\n",
    "edges_df['hero'] = edges_df['hero'].apply(lambda x: x.rstrip('/')[:20])\n",
    "nodes_df['node'] = nodes_df['node'].apply(lambda x: x.rstrip('/')[:20])"
   ]
  },
  {
   "attachments": {},
   "cell_type": "markdown",
   "id": "1061e342",
   "metadata": {},
   "source": [
    "Let's check if the are any anomalies in our data now that we have formatted them."
   ]
  },
  {
   "cell_type": "code",
   "execution_count": 5,
   "id": "bde697c0",
   "metadata": {},
   "outputs": [
    {
     "name": "stdout",
     "output_type": "stream",
     "text": [
      "True\n",
      "False\n",
      "False\n"
     ]
    }
   ],
   "source": [
    "print('SPIDER-MAN/PETER PAR' in hero_df.values)         #digits limit\n",
    "print('SPIDER-MAN/PETER PARKERKER' in nodes_df.values)  #with an extra \"KER\" in the end\n",
    "print('SPIDER-MAN/PETER PARKER' in edges_df.values)"
   ]
  },
  {
   "attachments": {},
   "cell_type": "markdown",
   "id": "b938d39e",
   "metadata": {},
   "source": [
    "Now let's remove the rows from the hero_df wich has the same hero in both columns."
   ]
  },
  {
   "cell_type": "code",
   "execution_count": 6,
   "id": "fbcabffc",
   "metadata": {},
   "outputs": [],
   "source": [
    "hero_df.drop(hero_df[hero_df['hero1'] == hero_df['hero2']].index, inplace = True)"
   ]
  },
  {
   "attachments": {},
   "cell_type": "markdown",
   "id": "2e41efda-c3f9-4094-ac5d-d108953b75ed",
   "metadata": {},
   "source": [
    "## **Graphs setup**"
   ]
  },
  {
   "cell_type": "markdown",
   "id": "fef24d6b-b6f5-4765-aca1-238e18635f49",
   "metadata": {},
   "source": [
    "First graph: Will be constructed using the data stored in the 'hero-network.csv' file, in which an edge between two heroes can be found if they have appeared in the same comic together. The number of edges between two heroes represents the number of times they have collaborated in different comics. The graph should be considered weighted and undirected. It is up to you to decide which metric to use to calculate the weights, but we anticipate that the cost will be lower for heroes with more collaborations. Please specify which metric you used to select the weights in the report."
   ]
  },
  {
   "attachments": {},
   "cell_type": "markdown",
   "id": "3675c74c",
   "metadata": {},
   "source": [
    "We group by the hero1 and hero2 on the hero_df to obtain the number of occurencies between to nodes, which corresponds to the number of times a hero collaborated with another hero. The we obtain a new dataset from this operation, in fact we need the 'weight' variable in our dataset."
   ]
  },
  {
   "cell_type": "code",
   "execution_count": 7,
   "id": "916d825d",
   "metadata": {},
   "outputs": [],
   "source": [
    "count_hero_df = hero_df.groupby([\"hero1\", \"hero2\"]).size().reset_index(name='weight')"
   ]
  },
  {
   "attachments": {},
   "cell_type": "markdown",
   "id": "ccf04cd1",
   "metadata": {},
   "source": [
    "We set the weight to be 1/n because it has to be inversely related to the number of times each hero collaborted with another hero. In this way heroes who got lot of collaborations will be penalized."
   ]
  },
  {
   "cell_type": "code",
   "execution_count": 8,
   "id": "ac9f1328",
   "metadata": {},
   "outputs": [],
   "source": [
    "count_hero_df['weight'] = count_hero_df['weight'].apply(lambda x: 1/x)"
   ]
  },
  {
   "cell_type": "code",
   "execution_count": 9,
   "id": "d3652f82",
   "metadata": {},
   "outputs": [
    {
     "data": {
      "text/html": [
       "<div>\n",
       "<style scoped>\n",
       "    .dataframe tbody tr th:only-of-type {\n",
       "        vertical-align: middle;\n",
       "    }\n",
       "\n",
       "    .dataframe tbody tr th {\n",
       "        vertical-align: top;\n",
       "    }\n",
       "\n",
       "    .dataframe thead th {\n",
       "        text-align: right;\n",
       "    }\n",
       "</style>\n",
       "<table border=\"1\" class=\"dataframe\">\n",
       "  <thead>\n",
       "    <tr style=\"text-align: right;\">\n",
       "      <th></th>\n",
       "      <th>hero1</th>\n",
       "      <th>hero2</th>\n",
       "      <th>weight</th>\n",
       "    </tr>\n",
       "  </thead>\n",
       "  <tbody>\n",
       "    <tr>\n",
       "      <th>0</th>\n",
       "      <td>24-HOUR MAN/EMMANUEL</td>\n",
       "      <td>FROST, CARMILLA</td>\n",
       "      <td>1.0</td>\n",
       "    </tr>\n",
       "    <tr>\n",
       "      <th>1</th>\n",
       "      <td>24-HOUR MAN/EMMANUEL</td>\n",
       "      <td>KILLRAVEN/JONATHAN R</td>\n",
       "      <td>1.0</td>\n",
       "    </tr>\n",
       "    <tr>\n",
       "      <th>2</th>\n",
       "      <td>24-HOUR MAN/EMMANUEL</td>\n",
       "      <td>M'SHULLA</td>\n",
       "      <td>1.0</td>\n",
       "    </tr>\n",
       "    <tr>\n",
       "      <th>3</th>\n",
       "      <td>3-D MAN/CHARLES CHAN</td>\n",
       "      <td>ANGEL/WARREN KENNETH</td>\n",
       "      <td>1.0</td>\n",
       "    </tr>\n",
       "    <tr>\n",
       "      <th>4</th>\n",
       "      <td>3-D MAN/CHARLES CHAN</td>\n",
       "      <td>ANT-MAN II/SCOTT HAR</td>\n",
       "      <td>1.0</td>\n",
       "    </tr>\n",
       "    <tr>\n",
       "      <th>...</th>\n",
       "      <td>...</td>\n",
       "      <td>...</td>\n",
       "      <td>...</td>\n",
       "    </tr>\n",
       "    <tr>\n",
       "      <th>224164</th>\n",
       "      <td>ZZZAX</td>\n",
       "      <td>RODRIGUEZ, DEBRA</td>\n",
       "      <td>1.0</td>\n",
       "    </tr>\n",
       "    <tr>\n",
       "      <th>224165</th>\n",
       "      <td>ZZZAX</td>\n",
       "      <td>ROSS, GEN. THADDEUS</td>\n",
       "      <td>0.5</td>\n",
       "    </tr>\n",
       "    <tr>\n",
       "      <th>224166</th>\n",
       "      <td>ZZZAX</td>\n",
       "      <td>SUMMERS, NATHAN CHRI</td>\n",
       "      <td>1.0</td>\n",
       "    </tr>\n",
       "    <tr>\n",
       "      <th>224167</th>\n",
       "      <td>ZZZAX</td>\n",
       "      <td>TIGRA/GREER NELSON</td>\n",
       "      <td>1.0</td>\n",
       "    </tr>\n",
       "    <tr>\n",
       "      <th>224168</th>\n",
       "      <td>ZZZAX</td>\n",
       "      <td>WONDER MAN/SIMON WIL</td>\n",
       "      <td>1.0</td>\n",
       "    </tr>\n",
       "  </tbody>\n",
       "</table>\n",
       "<p>224169 rows × 3 columns</p>\n",
       "</div>"
      ],
      "text/plain": [
       "                       hero1                 hero2  weight\n",
       "0       24-HOUR MAN/EMMANUEL       FROST, CARMILLA     1.0\n",
       "1       24-HOUR MAN/EMMANUEL  KILLRAVEN/JONATHAN R     1.0\n",
       "2       24-HOUR MAN/EMMANUEL              M'SHULLA     1.0\n",
       "3       3-D MAN/CHARLES CHAN  ANGEL/WARREN KENNETH     1.0\n",
       "4       3-D MAN/CHARLES CHAN  ANT-MAN II/SCOTT HAR     1.0\n",
       "...                      ...                   ...     ...\n",
       "224164                 ZZZAX      RODRIGUEZ, DEBRA     1.0\n",
       "224165                 ZZZAX  ROSS, GEN. THADDEUS      0.5\n",
       "224166                 ZZZAX  SUMMERS, NATHAN CHRI     1.0\n",
       "224167                 ZZZAX    TIGRA/GREER NELSON     1.0\n",
       "224168                 ZZZAX  WONDER MAN/SIMON WIL     1.0\n",
       "\n",
       "[224169 rows x 3 columns]"
      ]
     },
     "execution_count": 9,
     "metadata": {},
     "output_type": "execute_result"
    }
   ],
   "source": [
    "count_hero_df"
   ]
  },
  {
   "attachments": {},
   "cell_type": "markdown",
   "id": "675a0d57",
   "metadata": {},
   "source": [
    "Now we can create a 'weighted graph' using the weight we calculated as our edge attribute."
   ]
  },
  {
   "cell_type": "code",
   "execution_count": 10,
   "id": "c9fa5437",
   "metadata": {},
   "outputs": [],
   "source": [
    "G_hero_net = nx.from_pandas_edgelist(count_hero_df, 'hero1', 'hero2', edge_attr='weight', create_using=nx.MultiGraph)"
   ]
  },
  {
   "cell_type": "code",
   "execution_count": 11,
   "id": "b5570683",
   "metadata": {},
   "outputs": [
    {
     "data": {
      "text/plain": [
       "AtlasView({0: {'weight': 1.0}})"
      ]
     },
     "execution_count": 11,
     "metadata": {},
     "output_type": "execute_result"
    }
   ],
   "source": [
    "G_hero_net['ZZZAX']['RODRIGUEZ, DEBRA']"
   ]
  },
  {
   "attachments": {},
   "cell_type": "markdown",
   "id": "0ca9ea69-ba1f-402c-b5f7-c8cd1ae4cd8e",
   "metadata": {},
   "source": [
    "**Second graph** : The data in 'nodes.csv' and 'edges.csv' will be used to construct the second graph. The type of node (hero/comic) can be found in 'nodes.csv', and an edge between a hero node and a comic node can be found in 'edges.csv' when the hero has appeared in that specific comic. This graph is assumed to be undirected and unweighted."
   ]
  },
  {
   "attachments": {},
   "cell_type": "markdown",
   "id": "0c9967fb",
   "metadata": {},
   "source": [
    "We need to set the 'node' column as index of the nodes_df dataframe in order to proceed with our request.\n"
   ]
  },
  {
   "cell_type": "code",
   "execution_count": 12,
   "id": "141959ba",
   "metadata": {},
   "outputs": [
    {
     "name": "stdout",
     "output_type": "stream",
     "text": [
      "19090\n",
      "19087\n"
     ]
    }
   ],
   "source": [
    "print(len(nodes_df))\n",
    "print(len(nodes_df.node.unique()))"
   ]
  },
  {
   "attachments": {},
   "cell_type": "markdown",
   "id": "8c884fa8",
   "metadata": {},
   "source": [
    "We see that there are only 3 non unique values in the 'node' column se we decided to drop them to mantain the dataframe consistency."
   ]
  },
  {
   "cell_type": "code",
   "execution_count": 13,
   "id": "fec734e7",
   "metadata": {},
   "outputs": [],
   "source": [
    "nodes_df = nodes_df.drop_duplicates(subset=['node'])"
   ]
  },
  {
   "attachments": {},
   "cell_type": "markdown",
   "id": "cbd96f87",
   "metadata": {},
   "source": [
    "We transform the node column in the new index of the dataframe and we transform it in a dictionary."
   ]
  },
  {
   "cell_type": "code",
   "execution_count": 14,
   "id": "f7e709fc",
   "metadata": {},
   "outputs": [],
   "source": [
    "nodes_attr = nodes_df.set_index('node').to_dict(orient = 'index')"
   ]
  },
  {
   "attachments": {},
   "cell_type": "markdown",
   "id": "d66def3d",
   "metadata": {},
   "source": [
    "Now we can proceed with the creation of the second graph. First we create a new graph starting from the edges dataframe and then we select the nodes_attr dictionary to be the attributes of our nodes."
   ]
  },
  {
   "cell_type": "code",
   "execution_count": 15,
   "id": "26c35798",
   "metadata": {},
   "outputs": [],
   "source": [
    "G_edges_net = nx.from_pandas_edgelist(edges_df, 'hero', 'comic')\n",
    "nx.set_node_attributes(G_edges_net, nodes_attr)"
   ]
  },
  {
   "cell_type": "code",
   "execution_count": 17,
   "id": "9a83ec47",
   "metadata": {},
   "outputs": [
    {
     "data": {
      "text/plain": [
       "{'type': 'hero'}"
      ]
     },
     "execution_count": 17,
     "metadata": {},
     "output_type": "execute_result"
    }
   ],
   "source": [
    "G_edges_net.nodes['VENUS II']"
   ]
  },
  {
   "attachments": {},
   "cell_type": "markdown",
   "id": "7f977171-c0c1-4597-93bd-9c82579af4f9",
   "metadata": {},
   "source": [
    "# 2. ***Backend Implementation***"
   ]
  },
  {
   "attachments": {},
   "cell_type": "markdown",
   "id": "06e883c9-9337-4547-bc98-e8cd30587ce6",
   "metadata": {},
   "source": [
    "The goal of this part is the implementation of a controller system that has different functionalities. The controller should take as input an identifier \"i\" and run the associated function_i applied to the graph you create from the downloaded data.\n",
    "\n",
    "Definition: As the number of nodes and edges grows, we may request to work on a subset of the data to reduce computation time and improve network visualization. In this case, we will ask you only to consider the data for top N heros. We define the top N heroes as follows:\n",
    "\n",
    "* Top N heroes: The top N heroes who have appeared in the most number of comics. The 'edges.csv' file, which represents the comics in which each hero has appeared, can be used to filter these N heroes.\n",
    "\n",
    "Note: When the value of N is not set by the user, the function should consider the whole data.\n",
    "Functionality 1 - extract the graph's features"
   ]
  },
  {
   "attachments": {},
   "cell_type": "markdown",
   "id": "6ae64674",
   "metadata": {},
   "source": [
    "## ***Functionality 1 - Extract the graph's features***"
   ]
  },
  {
   "attachments": {},
   "cell_type": "markdown",
   "id": "de9f0492",
   "metadata": {},
   "source": [
    "**Input**: \n",
    "* The graph data\n",
    "* The graph type (ex number 1 or number 2)\n",
    "* N: denoting the top N heroes that their data should be considered\n",
    "\n",
    "**Output**:\n",
    "\n",
    "* The number of nodes in the network (if type 2, report for both node types)\n",
    "* The number of collaborations of each superhero with the others (only if type 1)\n",
    "* The number of heroes that have appeared in each comic (only if type 2)\n",
    "* The network's density\n",
    "* The network's degree distribution\n",
    "* The average degree of the network\n",
    "* The network's Hubs (hubs are nodes having degrees more extensive than the 95th percentile of the degree distribution)\n",
    "* Whether the Network is sparse or dense"
   ]
  },
  {
   "cell_type": "code",
   "execution_count": 33,
   "id": "1cb3cb0f-8ee3-42ab-8cad-e2537c9359d8",
   "metadata": {},
   "outputs": [],
   "source": [
    "def TOP_N(N):\n",
    "    edges_df=pd.read_csv('edges.csv')\n",
    "    return [el for el in edges_df.groupby('hero').count().sort_values(by=['comic'],ascending=False).head(N).index]   "
   ]
  },
  {
   "cell_type": "code",
   "execution_count": 63,
   "id": "9f246e8c-f4ee-468f-acfd-6eeed8a37853",
   "metadata": {},
   "outputs": [],
   "source": [
    "def number_of_nodes(type):\n",
    "    if type == 1 :\n",
    "        return (f\"The G_hero_net has \" + str(G_hero_net.number_of_nodes()) +  \" nodes\")\n",
    "    elif type == 2 :\n",
    "        return (f\"The G_edges_net has \" + str(G_edges_net.number_of_nodes()) +  \" nodes\")\n",
    "    else:\n",
    "        return ('Wrong type number')"
   ]
  },
  {
   "cell_type": "code",
   "execution_count": 82,
   "id": "c7b1e509-ad20-4173-9248-f1223ae0f4f8",
   "metadata": {},
   "outputs": [],
   "source": [
    "def number_of_collaborations():\n",
    "    for node in G_hero_net:\n",
    "        print( node + \" has \" + str(G_hero_net.degree(node)) + \" collaborations.\")\n",
    "        "
   ]
  },
  {
   "cell_type": "code",
   "execution_count": 19,
   "id": "5cd0440b-0bbf-426f-9aa6-880754a58bc2",
   "metadata": {},
   "outputs": [],
   "source": [
    "def Functionality_1(graph,graph_type,N):\n",
    "    number_of_nodes(graph_type)\n",
    "    number_of_collaborations()\n",
    "    return"
   ]
  },
  {
   "cell_type": "code",
   "execution_count": null,
   "id": "77a3be47-2624-4ec9-8918-19bbdfb0e8cb",
   "metadata": {},
   "outputs": [],
   "source": []
  },
  {
   "cell_type": "code",
   "execution_count": null,
   "id": "ecb22cec-173b-4fb8-aea4-d847da72286b",
   "metadata": {},
   "outputs": [],
   "source": []
  },
  {
   "cell_type": "code",
   "execution_count": null,
   "id": "4282d3dd-47ef-4a18-a17f-b38e5e6050f6",
   "metadata": {},
   "outputs": [],
   "source": []
  }
 ],
 "metadata": {
  "kernelspec": {
   "display_name": "base",
   "language": "python",
   "name": "python3"
  },
  "language_info": {
   "codemirror_mode": {
    "name": "ipython",
    "version": 3
   },
   "file_extension": ".py",
   "mimetype": "text/x-python",
   "name": "python",
   "nbconvert_exporter": "python",
   "pygments_lexer": "ipython3",
   "version": "3.9.12"
  },
  "vscode": {
   "interpreter": {
    "hash": "a547c398147e467c4c98718231cb6d0e62d8e2b53accc721dd4e7a51a91b9db2"
   }
  }
 },
 "nbformat": 4,
 "nbformat_minor": 5
}
