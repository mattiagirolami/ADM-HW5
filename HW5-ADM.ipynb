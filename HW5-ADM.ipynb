{
 "cells": [
  {
   "cell_type": "code",
   "execution_count": 76,
   "id": "3895eeac-1677-4e51-861d-0abc0e3084ca",
   "metadata": {},
   "outputs": [],
   "source": [
    "import pandas as pd\n",
    "import numpy as np\n",
    "import networkx as nx\n",
    "import matplotlib.pyplot as plt"
   ]
  },
  {
   "attachments": {},
   "cell_type": "markdown",
   "id": "2cf0ccac-1b29-4f11-9c99-23baf6f0f6e1",
   "metadata": {},
   "source": [
    "# EX 1"
   ]
  },
  {
   "attachments": {},
   "cell_type": "markdown",
   "id": "fb9fa2fb",
   "metadata": {},
   "source": [
    "## Data Preprocessing"
   ]
  },
  {
   "attachments": {},
   "cell_type": "markdown",
   "id": "a81f8cab-239d-489e-88d0-b6be10de639f",
   "metadata": {},
   "source": [
    "As always, in the data science area, you can find some inconsistencies in the provided data. Therefore, some modifications should be made to the data to make it consistent across all of the datasets you have. To ensure consistency in the data, keep the following in mind:\n",
    "\n",
    "  1)  Some of the heroes' names in 'hero-network.csv' are not found in 'edges.csv'. This inconsistency exists for the following reasons:\n",
    "        - Some heroes' names in 'hero-netowrk.csv' have extra spaces at the end of their names compared to their names in 'edges.csv'.\n",
    "        - Some heroes' names in 'hero-netowrk.csv' have an extra '/' at the end of their names compared to their names in 'edges.csv'.\n",
    "        - The hero name 'SPIDER-MAN/PETER PARKER' in 'edges.csv' has been changed to 'SPIDER-MAN/PETER PAR' in 'hero-network.csv' due to a string length    limit in 'hero-network.csv'.\n",
    "\n",
    "\n",
    "  2)  Some entries in the 'hero-network.csv' have the same hero in both columns. In the graph, these entries form a self-loop. Because a self-loop makes no sense in this network, you can safely remove those from the dataset.\n"
   ]
  },
  {
   "cell_type": "code",
   "execution_count": 77,
   "id": "f44fdce5-87f3-4629-a31c-dd3b41eef82e",
   "metadata": {},
   "outputs": [],
   "source": [
    "hero_df = pd.read_csv('hero-network.csv')\n",
    "edges_df = pd.read_csv('edges.csv')\n",
    "nodes_df = pd.read_csv('nodes.csv')"
   ]
  },
  {
   "cell_type": "code",
   "execution_count": 78,
   "id": "3594d0a4",
   "metadata": {},
   "outputs": [
    {
     "data": {
      "text/html": [
       "<div>\n",
       "<style scoped>\n",
       "    .dataframe tbody tr th:only-of-type {\n",
       "        vertical-align: middle;\n",
       "    }\n",
       "\n",
       "    .dataframe tbody tr th {\n",
       "        vertical-align: top;\n",
       "    }\n",
       "\n",
       "    .dataframe thead th {\n",
       "        text-align: right;\n",
       "    }\n",
       "</style>\n",
       "<table border=\"1\" class=\"dataframe\">\n",
       "  <thead>\n",
       "    <tr style=\"text-align: right;\">\n",
       "      <th></th>\n",
       "      <th>node</th>\n",
       "      <th>type</th>\n",
       "    </tr>\n",
       "  </thead>\n",
       "  <tbody>\n",
       "    <tr>\n",
       "      <th>0</th>\n",
       "      <td>2001 10</td>\n",
       "      <td>comic</td>\n",
       "    </tr>\n",
       "    <tr>\n",
       "      <th>1</th>\n",
       "      <td>2001 8</td>\n",
       "      <td>comic</td>\n",
       "    </tr>\n",
       "    <tr>\n",
       "      <th>2</th>\n",
       "      <td>2001 9</td>\n",
       "      <td>comic</td>\n",
       "    </tr>\n",
       "    <tr>\n",
       "      <th>3</th>\n",
       "      <td>24-HOUR MAN/EMMANUEL</td>\n",
       "      <td>hero</td>\n",
       "    </tr>\n",
       "    <tr>\n",
       "      <th>4</th>\n",
       "      <td>3-D MAN/CHARLES CHAN</td>\n",
       "      <td>hero</td>\n",
       "    </tr>\n",
       "    <tr>\n",
       "      <th>...</th>\n",
       "      <td>...</td>\n",
       "      <td>...</td>\n",
       "    </tr>\n",
       "    <tr>\n",
       "      <th>19085</th>\n",
       "      <td>ZOTA, CARLO</td>\n",
       "      <td>hero</td>\n",
       "    </tr>\n",
       "    <tr>\n",
       "      <th>19086</th>\n",
       "      <td>ZOTA</td>\n",
       "      <td>hero</td>\n",
       "    </tr>\n",
       "    <tr>\n",
       "      <th>19087</th>\n",
       "      <td>ZURAS</td>\n",
       "      <td>hero</td>\n",
       "    </tr>\n",
       "    <tr>\n",
       "      <th>19088</th>\n",
       "      <td>ZURI</td>\n",
       "      <td>hero</td>\n",
       "    </tr>\n",
       "    <tr>\n",
       "      <th>19089</th>\n",
       "      <td>ZZZAX</td>\n",
       "      <td>hero</td>\n",
       "    </tr>\n",
       "  </tbody>\n",
       "</table>\n",
       "<p>19090 rows × 2 columns</p>\n",
       "</div>"
      ],
      "text/plain": [
       "                       node   type\n",
       "0                   2001 10  comic\n",
       "1                    2001 8  comic\n",
       "2                    2001 9  comic\n",
       "3      24-HOUR MAN/EMMANUEL   hero\n",
       "4      3-D MAN/CHARLES CHAN   hero\n",
       "...                     ...    ...\n",
       "19085           ZOTA, CARLO   hero\n",
       "19086                  ZOTA   hero\n",
       "19087                 ZURAS   hero\n",
       "19088                  ZURI   hero\n",
       "19089                 ZZZAX   hero\n",
       "\n",
       "[19090 rows x 2 columns]"
      ]
     },
     "execution_count": 78,
     "metadata": {},
     "output_type": "execute_result"
    }
   ],
   "source": [
    "nodes_df"
   ]
  },
  {
   "attachments": {},
   "cell_type": "markdown",
   "id": "e18fdac5-78d0-4c72-a699-82e35e399152",
   "metadata": {},
   "source": [
    "We decided to homogenize all the DFs since there are many words that are the same but with extra characters in the end\n",
    "and in the hero-network's DF there is a character limit of 20 digits.\n",
    "\n",
    "We report here some examples of the issues we could find"
   ]
  },
  {
   "cell_type": "code",
   "execution_count": 79,
   "id": "32009d19-f5bb-462a-a84b-1bcfa60a937f",
   "metadata": {},
   "outputs": [
    {
     "name": "stdout",
     "output_type": "stream",
     "text": [
      "True\n",
      "True\n",
      "True\n"
     ]
    }
   ],
   "source": [
    "print('SPIDER-MAN/PETER PAR' in hero_df.values)         #digits limit\n",
    "print('SPIDER-MAN/PETER PARKERKER' in nodes_df.values)  #with an extra \"KER\" in the end\n",
    "print('SPIDER-MAN/PETER PARKER' in edges_df.values)     "
   ]
  },
  {
   "attachments": {},
   "cell_type": "markdown",
   "id": "ad41c54c",
   "metadata": {},
   "source": [
    "Trimming to the 20th character and removing final blank spaces or final \"/\" character"
   ]
  },
  {
   "cell_type": "code",
   "execution_count": 80,
   "id": "ab5343ab",
   "metadata": {},
   "outputs": [],
   "source": [
    "hero_df['hero1'] = hero_df['hero1'].apply(lambda x: x.rstrip('/')[:20])\n",
    "hero_df['hero2'] = hero_df['hero2'].apply(lambda x: x.rstrip('/')[:20])\n",
    "edges_df['hero'] = edges_df['hero'].apply(lambda x: x.rstrip('/')[:20])\n",
    "nodes_df['node'] = nodes_df['node'].apply(lambda x: x.rstrip('/')[:20])"
   ]
  },
  {
   "attachments": {},
   "cell_type": "markdown",
   "id": "1061e342",
   "metadata": {},
   "source": [
    "Let's check if the are any anomalies in our data now that we have formatted them."
   ]
  },
  {
   "cell_type": "code",
   "execution_count": 81,
   "id": "bde697c0",
   "metadata": {},
   "outputs": [
    {
     "name": "stdout",
     "output_type": "stream",
     "text": [
      "True\n",
      "False\n",
      "False\n"
     ]
    }
   ],
   "source": [
    "print('SPIDER-MAN/PETER PAR' in hero_df.values)         #digits limit\n",
    "print('SPIDER-MAN/PETER PARKERKER' in nodes_df.values)  #with an extra \"KER\" in the end\n",
    "print('SPIDER-MAN/PETER PARKER' in edges_df.values)"
   ]
  },
  {
   "attachments": {},
   "cell_type": "markdown",
   "id": "b938d39e",
   "metadata": {},
   "source": [
    "Now let's remove the rows from the hero_df wich has the same hero in both columns."
   ]
  },
  {
   "cell_type": "code",
   "execution_count": 82,
   "id": "fbcabffc",
   "metadata": {},
   "outputs": [],
   "source": [
    "hero_df = hero_df.drop(hero_df[hero_df['hero1'] == hero_df['hero2']].index, inplace = True)"
   ]
  },
  {
   "attachments": {},
   "cell_type": "markdown",
   "id": "2e41efda-c3f9-4094-ac5d-d108953b75ed",
   "metadata": {},
   "source": [
    "### Graphs setup"
   ]
  },
  {
   "cell_type": "markdown",
   "id": "fef24d6b-b6f5-4765-aca1-238e18635f49",
   "metadata": {},
   "source": [
    "First graph: Will be constructed using the data stored in the 'hero-network.csv' file, in which an edge between two heroes can be found if they have appeared in the same comic together. The number of edges between two heroes represents the number of times they have collaborated in different comics. The graph should be considered weighted and undirected. It is up to you to decide which metric to use to calculate the weights, but we anticipate that the cost will be lower for heroes with more collaborations. Please specify which metric you used to select the weights in the report."
   ]
  },
  {
   "cell_type": "code",
   "execution_count": 7,
   "id": "6ce55b12-f91e-4f28-b404-89cc7e562067",
   "metadata": {},
   "outputs": [],
   "source": [
    "MG_hero= nx.from_pandas_edgelist(hero_df, 'hero1', 'hero2', create_using=nx.MultiGraph)\n",
    "####################################################################################################\n",
    "##   FORSE ANDAVA CREATO UN NUOVO DF CON DIRETTAMENTE I PESI PER OGNI COPPIA SFRUTTANDO GROUPBY?  ##\n",
    "##    #hero_df.groupby(['hero1', 'hero2']).size()                                                 ##\n",
    "####################################################################################################"
   ]
  },
  {
   "cell_type": "code",
   "execution_count": 8,
   "id": "9e9bfa79-3928-476d-8fe5-344958069ff6",
   "metadata": {},
   "outputs": [],
   "source": [
    "G_hero=nx.Graph()\n",
    "for n, nbrs in MG_hero.adjacency():\n",
    "    for nbr, edict in nbrs.items():\n",
    "        #########################################################\n",
    "        ## #NON SONO SICURO SIA QUESTA LA METRICA CHE INTENDE  ##\n",
    "        #########################################################\n",
    "        maxvalue = max(MG_hero.degree(weight='weight')[n], MG_hero.degree(weight='weight')[nbr]) \n",
    "        G_hero.add_edge(n,nbr,weight=1/maxvalue)\n",
    " \n"
   ]
  },
  {
   "cell_type": "markdown",
   "id": "0ca9ea69-ba1f-402c-b5f7-c8cd1ae4cd8e",
   "metadata": {},
   "source": [
    "Second graph: The data in 'nodes.csv' and 'edges.csv' will be used to construct the second graph. The type of node (hero/comic) can be found in 'nodes.csv', and an edge between a hero node and a comic node can be found in 'edges.csv' when the hero has appeared in that specific comic. This graph is assumed to be undirected and unweighted."
   ]
  },
  {
   "cell_type": "code",
   "execution_count": 9,
   "id": "5177eadb-494a-4fc9-adfe-da648803d1cc",
   "metadata": {},
   "outputs": [],
   "source": [
    "G_nodes_edges= nx.from_pandas_edgelist(edges_df, 'hero', 'comic', create_using=nx.Graph) "
   ]
  },
  {
   "cell_type": "code",
   "execution_count": 10,
   "id": "7a67f37b-78a8-4390-bd36-19f4c1c7a8cf",
   "metadata": {},
   "outputs": [
    {
     "data": {
      "text/plain": [
       "True"
      ]
     },
     "execution_count": 10,
     "metadata": {},
     "output_type": "execute_result"
    }
   ],
   "source": [
    "set(nodes_df.node)==set(G_nodes_edges.nodes) "
   ]
  },
  {
   "cell_type": "markdown",
   "id": "819b8451-c25e-4762-bbc0-f035108a4bb9",
   "metadata": {},
   "source": [
    "Since the nodes are the comics and the heros names and an edge between a hero and a comic exists if and only if those are in the same row of edges.csv, than creating a graph based on edges.csv could only left behind heros or comics that appear in nodes.csv but not in edges.csv, but as we can see doing set(nodes_df.node)==set(G_nodes_edges.nodes) these eventuality is escluded so we can create our graph starting from edges.csv only."
   ]
  },
  {
   "cell_type": "markdown",
   "id": "7f977171-c0c1-4597-93bd-9c82579af4f9",
   "metadata": {},
   "source": [
    "## EX 2"
   ]
  },
  {
   "cell_type": "markdown",
   "id": "06e883c9-9337-4547-bc98-e8cd30587ce6",
   "metadata": {},
   "source": [
    "The goal of this part is the implementation of a controller system that has different functionalities. The controller should take as input an identifier \"i\" and run the associated function_i applied to the graph you create from the downloaded data.\n",
    "\n",
    "Definition: As the number of nodes and edges grows, we may request to work on a subset of the data to reduce computation time and improve network visualization. In this case, we will ask you only to consider the data for top N heros. We define the top N heroes as follows:\n",
    "\n",
    "    Top N heroes: The top N heroes who have appeared in the most number of comics. The 'edges.csv' file, which represents the comics in which each hero has appeared, can be used to filter these N heroes.\n",
    "\n",
    "Note: When the value of N is not set by the user, the function should consider the whole data.\n",
    "Functionality 1 - extract the graph's features\n",
    "\n",
    "Input:\n",
    "\n",
    "    The graph data\n",
    "    The graph type (ex., number 1 or number 2)\n",
    "    N: denoting the top N heroes that their data should be considered\n",
    "\n",
    "Output:\n",
    "\n",
    "    The number of nodes in the network (if type 2, report for both node types)\n",
    "    The number of collaborations of each superhero with the others (only if type 1)\n",
    "    The number of heroes that have appeared in each comic (only if type 2)\n",
    "    The network's density\n",
    "    The network's degree distribution\n",
    "    The average degree of the network\n",
    "    The network's Hubs (hubs are nodes having degrees more extensive than the 95th percentile of the degree distribution)\n",
    "    Whether the Network is sparse or dense\n",
    "\n",
    "Note: For this case, it makes sense to differentiate operations between the two graphs: for example, when computing hubs for the second graph, we likely care only about comics."
   ]
  },
  {
   "cell_type": "code",
   "execution_count": 11,
   "id": "1cb3cb0f-8ee3-42ab-8cad-e2537c9359d8",
   "metadata": {},
   "outputs": [],
   "source": [
    "def TOP_N(N):\n",
    "    edges_df=pd.read_csv('edges.csv')\n",
    "    return [el for el in edges_df.groupby('hero').count().sort_values(by=['comic'],ascending=False).head(N).index]   "
   ]
  },
  {
   "cell_type": "code",
   "execution_count": 12,
   "id": "5cd0440b-0bbf-426f-9aa6-880754a58bc2",
   "metadata": {},
   "outputs": [],
   "source": [
    "def Functionality_1(graph,graph_type,N):\n",
    "    return"
   ]
  },
  {
   "cell_type": "code",
   "execution_count": null,
   "id": "9f246e8c-f4ee-468f-acfd-6eeed8a37853",
   "metadata": {},
   "outputs": [],
   "source": []
  },
  {
   "cell_type": "code",
   "execution_count": null,
   "id": "c7b1e509-ad20-4173-9248-f1223ae0f4f8",
   "metadata": {},
   "outputs": [],
   "source": []
  },
  {
   "cell_type": "code",
   "execution_count": null,
   "id": "354e9aca-df7e-43a6-b508-0e7f485895c3",
   "metadata": {},
   "outputs": [],
   "source": []
  },
  {
   "cell_type": "code",
   "execution_count": null,
   "id": "77a3be47-2624-4ec9-8918-19bbdfb0e8cb",
   "metadata": {},
   "outputs": [],
   "source": []
  },
  {
   "cell_type": "code",
   "execution_count": null,
   "id": "ecb22cec-173b-4fb8-aea4-d847da72286b",
   "metadata": {},
   "outputs": [],
   "source": []
  },
  {
   "cell_type": "code",
   "execution_count": null,
   "id": "4282d3dd-47ef-4a18-a17f-b38e5e6050f6",
   "metadata": {},
   "outputs": [],
   "source": []
  }
 ],
 "metadata": {
  "kernelspec": {
   "display_name": "base",
   "language": "python",
   "name": "python3"
  },
  "language_info": {
   "codemirror_mode": {
    "name": "ipython",
    "version": 3
   },
   "file_extension": ".py",
   "mimetype": "text/x-python",
   "name": "python",
   "nbconvert_exporter": "python",
   "pygments_lexer": "ipython3",
   "version": "3.9.12 (main, Apr  4 2022, 05:22:27) [MSC v.1916 64 bit (AMD64)]"
  },
  "vscode": {
   "interpreter": {
    "hash": "a547c398147e467c4c98718231cb6d0e62d8e2b53accc721dd4e7a51a91b9db2"
   }
  }
 },
 "nbformat": 4,
 "nbformat_minor": 5
}
