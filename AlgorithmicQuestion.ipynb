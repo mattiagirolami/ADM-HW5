{
 "cells": [
  {
   "cell_type": "markdown",
   "id": "f5e5c151-1956-4eb8-bed7-aa7427b1383d",
   "metadata": {},
   "source": [
    "## 6. Algorithmic Question\n",
    "\n",
    "Alex and Sarah have been together for two years, and Alex is now thinking about proposing to her. But, to surprise her, he wants to install an app on her phone that asks her if she will marry him at the right time.\n",
    "\n",
    "However, to install the application secretly, he needs her phone's password, which he does not have. He knows her password is a poly-line made up of vertical or horizontal line segments. In a 3*3 grid, each line segment connects the centres of two cells. Alex learned the direction of each line segment by looking at her hand while unlocking her phone. He didn't pay much attention to the length of each line segment, but he is sure that her phone's operating system does not allow the poly-line to intersect with itself even at one point.\n",
    "\n",
    "Alex wants to distract Sarah's attention long enough to test all possible patterns based on the directions of the line segments he has learned. Therefore, he needs you to assist him in calculating how many possible patterns he has to try based on those directions to estimate how much time he needs to check all of those possibilities. Given that the line segments were directed right, down, left, and up, the following figure depicts two valid and one invalid (as the poly-lines should not intersect even in one point) patterns."
   ]
  },
  {
   "cell_type": "code",
   "execution_count": 1,
   "id": "4cfa4200-38a7-456d-8124-f0175be974fd",
   "metadata": {},
   "outputs": [],
   "source": [
    "from itertools import permutations"
   ]
  },
  {
   "cell_type": "code",
   "execution_count": 2,
   "id": "6d9eb16e-4b36-4896-aabb-0f2d1f67dd69",
   "metadata": {},
   "outputs": [],
   "source": [
    "def remove_doubles(word): #function to remove double character from a word\n",
    "    result = \"\"\n",
    "    previous_char = \"\"\n",
    "    for char in word:\n",
    "        if char != previous_char:\n",
    "            result += char\n",
    "        previous_char = char\n",
    "    return result"
   ]
  },
  {
   "cell_type": "code",
   "execution_count": 3,
   "id": "43c514ba-9d5f-4ccb-9139-99b9a16e3f91",
   "metadata": {},
   "outputs": [],
   "source": [
    "def triplette(word): #function that return 1 if the word have three consecutive equal character and 0 otherwise\n",
    "    Word=[i for i in word]\n",
    "    for i in range(len(Word)-2):\n",
    "        if (Word[i]==Word[i+1]):\n",
    "            if Word[i+1]==Word[i+2]:\n",
    "                return 1\n",
    "    return 0"
   ]
  },
  {
   "cell_type": "code",
   "execution_count": 4,
   "id": "a8cf5d6a-1877-4951-884c-8b26ac934972",
   "metadata": {},
   "outputs": [],
   "source": [
    "def path_or_not(Permutation,cnt,Start,tmp,repeat): #function that return 1 if exist a path for a specific sequence of directions\n",
    "                                                   #(doubles included) and 0 if not\n",
    "    \n",
    "    #we want to access to a dict where the keys are the starting point of the grid and the values are the possible steps from it\n",
    "    if Permutation[cnt]=='D': \n",
    "        Dict=D\n",
    "    if Permutation[cnt]=='U':\n",
    "        Dict=U\n",
    "    if Permutation[cnt]=='R':\n",
    "        Dict=R\n",
    "    if Permutation[cnt]=='L':\n",
    "        Dict=L\n",
    "        \n",
    "    if (Dict[Start][0]==0): #the value 0 in the dict means that there are no further steps from the Start\n",
    "        return [0,repeat,tmp]\n",
    "        \n",
    "        \n",
    "    if len(Dict[Start])==1: #splitting the code based on the length of the possible steps from the Start (NB: the maximum length is 2)\n",
    "        if (Dict[Start][0] in tmp): #tmp is a list where we store all the visited point, so if the further step is already in tmp, this path is not allowed\n",
    "            return [0,repeat,tmp]\n",
    "        else:\n",
    "            if cnt!=(len(Permutation)-1): #cnt is a counter that iterate the letters of the string\n",
    "                tmp.append(Dict[Start][0]) #appending the visited node\n",
    "                cnt=cnt+1 #increasing the counter to visit the next direction in the string list\n",
    "                Start=Dict[Start][0] #the new start we'll have \n",
    "                return path_or_not(Permutation,cnt,Start,tmp,repeat) #calling recoursively the function with the new parameters\n",
    "            else:\n",
    "                tmp.append(Dict[Start][0]) #if we have already visited all the string, then the path is a good one\n",
    "                return [1,repeat,tmp]\n",
    "    if len(Dict[Start])==2: #in case we have two possible nodes to visit\n",
    "        repeat=1 #that's to know that we have to repeat the search \n",
    "        if (Dict[Start][0] in tmp): #checking if the node has already been visited\n",
    "            return [0,repeat,tmp]\n",
    "        else:\n",
    "            if cnt!=(len(Permutation)-1):\n",
    "                tmp.append(Dict[Start][0])\n",
    "                cnt=cnt+1\n",
    "                Start_tmp=Dict[Start][0] #temporary start that allow us to do the next operation\n",
    "                Dict[Start]=[Dict[Start][1]] #removing the first possibile path from the values of the Start \"key\"\n",
    "                Start=Start_tmp #changing the start\n",
    "                return path_or_not(Permutation,cnt,Start,tmp,repeat) #calling recoursively the function with the new parameters\n",
    "            else:\n",
    "                tmp.append(Dict[Start][0])\n",
    "                Dict[Start]=[Dict[Start][1]]\n",
    "                return [1,repeat,tmp]     \n",
    "            "
   ]
  },
  {
   "cell_type": "code",
   "execution_count": 5,
   "id": "4d7aee15-83e1-4f71-bb14-3c0b0bbacb28",
   "metadata": {},
   "outputs": [],
   "source": [
    "string='DRU' #the string we are considering \n",
    "if len(string)>10:\n",
    "    print('This string is not valid, insert it again:')\n",
    "    string=input()\n",
    "if remove_doubles(string)!=string:\n",
    "    print('This string is not valid, insert it again:')\n",
    "    string=input()"
   ]
  },
  {
   "cell_type": "code",
   "execution_count": 6,
   "id": "a27aa52c-18cc-4af5-8921-e1f4a2030d00",
   "metadata": {},
   "outputs": [],
   "source": [
    "#we want to create all the possible paths to check \n",
    "#we permute the string and then we remove the permutation that for sure does not respect the requirements\n",
    "\n",
    "string_single_characters=[i for i in string]\n",
    "string_double_characters=[str(i+i) for i in string]\n",
    "letters=list(set(string_single_characters+string_double_characters)) #list of character to permute\n",
    "\n",
    "\n",
    "k = len(string) #the minimum length of the permutation\n",
    "string_permut=[] \n",
    "for r in range(k,len(letters)+1):      \n",
    "    for word in permutations(letters, r): #visiting the permutations list to not consider the one that are for sure not allowed\n",
    "        string_perm_tmp=''.join(word)\n",
    "        if(remove_doubles(string_perm_tmp)==string):\n",
    "            if (triplette(string_perm_tmp)==0):\n",
    "                string_permut.append(string_perm_tmp)"
   ]
  },
  {
   "cell_type": "code",
   "execution_count": 7,
   "id": "7404d166-8f9f-46ad-8563-e7f88ef585b6",
   "metadata": {},
   "outputs": [
    {
     "name": "stdout",
     "output_type": "stream",
     "text": [
      "The number of possible paths is: 15\n"
     ]
    }
   ],
   "source": [
    "#creating the dict where:  the name of the dict is the direction, the keys is the position in the grid, the values are the possible further steps\n",
    "U={1: [0], 2: [0], 3: [0], 4: [1], 5: [2], 6: [3], 7: [4,1], 8: [5,2], 9: [6,3]}\n",
    "D={1: [4, 7], 2: [5, 8], 3: [6, 9], 4: [7], 5: [8], 6: [9], 7: [0], 8: [0], 9: [0]}\n",
    "R={1: [2, 3], 2: [3], 3: [0], 4: [5, 6], 5: [6], 6: [0], 7: [8, 9], 8: [9], 9: [0]}\n",
    "L={1: [0], 2: [1], 3: [2,1], 4: [0], 5: [4], 6: [5,4], 7: [0], 8: [7], 9: [8,7]}\n",
    "\n",
    "num_path_cnt=0 #counter of eligible paths\n",
    "for per in string_permut: #visiting string_permut that have the strings of the possible paths from the starting string in input\n",
    "    i=1\n",
    "    Permutation=[el for el in per]\n",
    "    while (i<=9): #this is to visit all the 3x3 grid\n",
    "        result=path_or_not(Permutation,cnt=0,Start=i,tmp=[i],repeat=0) #calling the function to check if this series of direction is good or not\n",
    "        num_path_cnt=num_path_cnt+result[0] #increasing the counter if the path is eligible and doing nothing otherwise \n",
    "        if result[1]==1: #if we had a \"repeating\" output we don't call back the dict\n",
    "            i+=1\n",
    "        else: #if the \"repeating\" output is zero, we have to call back the dict initialization since the dict could have been changed before\n",
    "            U={1: [0], 2: [0], 3: [0], 4: [1], 5: [2], 6: [3], 7: [4,1], 8: [5,2], 9: [6,3]}\n",
    "            D={1: [4, 7], 2: [5, 8], 3: [6, 9], 4: [7], 5: [8], 6: [9], 7: [0], 8: [0], 9: [0]}\n",
    "            R={1: [2, 3], 2: [3], 3: [0], 4: [5, 6], 5: [6], 6: [0], 7: [8, 9], 8: [9], 9: [0]}\n",
    "            L={1: [0], 2: [1], 3: [2,1], 4: [0], 5: [4], 6: [5,4], 7: [0], 8: [7], 9: [8,7]}\n",
    "            i+=1\n",
    "print('The number of possible paths is:',num_path_cnt)"
   ]
  }
 ],
 "metadata": {
  "kernelspec": {
   "display_name": "Python 3 (ipykernel)",
   "language": "python",
   "name": "python3"
  },
  "language_info": {
   "codemirror_mode": {
    "name": "ipython",
    "version": 3
   },
   "file_extension": ".py",
   "mimetype": "text/x-python",
   "name": "python",
   "nbconvert_exporter": "python",
   "pygments_lexer": "ipython3",
   "version": "3.9.13"
  }
 },
 "nbformat": 4,
 "nbformat_minor": 5
}
