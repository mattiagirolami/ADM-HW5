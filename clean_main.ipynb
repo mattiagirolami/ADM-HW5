{
 "cells": [
  {
   "cell_type": "code",
   "execution_count": 2,
   "id": "3895eeac-1677-4e51-861d-0abc0e3084ca",
   "metadata": {},
   "outputs": [],
   "source": [
    "import pandas as pd\n",
    "import numpy as np\n",
    "import networkx as nx\n",
    "import matplotlib.pyplot as plt\n",
    "from collections import Counter\n",
    "from statistics import mean\n",
    "import numpy as np\n",
    "import itertools\n",
    "import my_functions as myf\n"
   ]
  },
  {
   "attachments": {},
   "cell_type": "markdown",
   "id": "2cf0ccac-1b29-4f11-9c99-23baf6f0f6e1",
   "metadata": {},
   "source": [
    "# 1. **_Data_**\n"
   ]
  },
  {
   "attachments": {},
   "cell_type": "markdown",
   "id": "fb9fa2fb",
   "metadata": {},
   "source": [
    "## **Data Preprocessing**\n"
   ]
  },
  {
   "attachments": {},
   "cell_type": "markdown",
   "id": "a81f8cab-239d-489e-88d0-b6be10de639f",
   "metadata": {},
   "source": [
    "As always, in the data science area, you can find some inconsistencies in the provided data. Therefore, some modifications should be made to the data to make it consistent across all of the datasets you have. To ensure consistency in the data, keep the following in mind:\n",
    "\n",
    "1.  Some of the heroes' names in 'hero-network.csv' are not found in 'edges.csv'. This inconsistency exists for the following reasons:\n",
    "\n",
    "    - Some heroes' names in 'hero-netowrk.csv' have extra spaces at the end of their names compared to their names in 'edges.csv'.\n",
    "    - Some heroes' names in 'hero-netowrk.csv' have an extra '/' at the end of their names compared to their names in 'edges.csv'.\n",
    "    - The hero name 'SPIDER-MAN/PETER PARKER' in 'edges.csv' has been changed to 'SPIDER-MAN/PETER PAR' in 'hero-network.csv' due to a string length limit in 'hero-network.csv'.\n",
    "\n",
    "2.  Some entries in the 'hero-network.csv' have the same hero in both columns. In the graph, these entries form a self-loop. Because a self-loop makes no sense in this network, you can safely remove those from the dataset.\n"
   ]
  },
  {
   "cell_type": "code",
   "execution_count": 3,
   "id": "f44fdce5-87f3-4629-a31c-dd3b41eef82e",
   "metadata": {},
   "outputs": [],
   "source": [
    "hero_df = pd.read_csv(\"hero-network.csv\")\n",
    "edges_df = pd.read_csv(\"edges.csv\")\n",
    "nodes_df = pd.read_csv(\"nodes.csv\")"
   ]
  },
  {
   "attachments": {},
   "cell_type": "markdown",
   "id": "e18fdac5-78d0-4c72-a699-82e35e399152",
   "metadata": {},
   "source": [
    "We decided to homogenize all the DFs since there are many words that are the same but with extra characters in the end\n",
    "and in the hero-network's DF there is a character limit of 20 digits.\n",
    "\n",
    "We report here some examples of the issues we could find\n"
   ]
  },
  {
   "cell_type": "code",
   "execution_count": 4,
   "id": "32009d19-f5bb-462a-a84b-1bcfa60a937f",
   "metadata": {},
   "outputs": [
    {
     "name": "stdout",
     "output_type": "stream",
     "text": [
      "True\n",
      "True\n",
      "True\n"
     ]
    }
   ],
   "source": [
    "print(\"SPIDER-MAN/PETER PAR\" in hero_df.values)  # digits limit\n",
    "print(\"SPIDER-MAN/PETER PARKERKER\" in nodes_df.values)  # with an extra \"KER\" in the end\n",
    "print(\"SPIDER-MAN/PETER PARKER\" in edges_df.values)"
   ]
  },
  {
   "attachments": {},
   "cell_type": "markdown",
   "id": "ad41c54c",
   "metadata": {},
   "source": [
    "Trimming to the 20th character and removing final blank spaces or final \"/\" character\n"
   ]
  },
  {
   "cell_type": "code",
   "execution_count": 5,
   "id": "ab5343ab",
   "metadata": {},
   "outputs": [],
   "source": [
    "hero_df[\"hero1\"] = hero_df[\"hero1\"].apply(lambda x: x.rstrip(\"/ \")[:20])\n",
    "hero_df[\"hero2\"] = hero_df[\"hero2\"].apply(lambda x: x.rstrip(\"/ \")[:20])\n",
    "edges_df[\"hero\"] = edges_df[\"hero\"].apply(lambda x: x.rstrip(\"/ \")[:20])\n",
    "edges_df[\"comic\"] = edges_df[\"comic\"].apply(lambda x: x.rstrip(\"/ \")[:20])\n",
    "nodes_df[\"node\"] = nodes_df[\"node\"].apply(lambda x: x.rstrip(\"/ \")[:20])"
   ]
  },
  {
   "attachments": {},
   "cell_type": "markdown",
   "id": "1061e342",
   "metadata": {},
   "source": [
    "Let's check if the are any anomalies in our data now that we have formatted them.\n"
   ]
  },
  {
   "cell_type": "code",
   "execution_count": 6,
   "id": "bde697c0",
   "metadata": {},
   "outputs": [
    {
     "name": "stdout",
     "output_type": "stream",
     "text": [
      "True\n",
      "False\n",
      "False\n"
     ]
    }
   ],
   "source": [
    "print(\"SPIDER-MAN/PETER PAR\" in hero_df.values)  # digits limit\n",
    "print(\"SPIDER-MAN/PETER PARKERKER\" in nodes_df.values)  # with an extra \"KER\" in the end\n",
    "print(\"SPIDER-MAN/PETER PARKER\" in edges_df.values)"
   ]
  },
  {
   "attachments": {},
   "cell_type": "markdown",
   "id": "b938d39e",
   "metadata": {},
   "source": [
    "Now let's remove the rows from the hero_df wich has the same hero in both columns.\n"
   ]
  },
  {
   "cell_type": "code",
   "execution_count": 7,
   "id": "fbcabffc",
   "metadata": {},
   "outputs": [],
   "source": [
    "hero_df.drop(hero_df[hero_df[\"hero1\"] == hero_df[\"hero2\"]].index, inplace=True)"
   ]
  },
  {
   "attachments": {},
   "cell_type": "markdown",
   "id": "2e41efda-c3f9-4094-ac5d-d108953b75ed",
   "metadata": {},
   "source": [
    "## **Graphs setup**\n"
   ]
  },
  {
   "attachments": {},
   "cell_type": "markdown",
   "id": "fef24d6b-b6f5-4765-aca1-238e18635f49",
   "metadata": {},
   "source": [
    "First graph: Will be constructed using the data stored in the 'hero-network.csv' file, in which an edge between two heroes can be found if they have appeared in the same comic together. The number of edges between two heroes represents the number of times they have collaborated in different comics. The graph should be considered weighted and undirected. It is up to you to decide which metric to use to calculate the weights, but we anticipate that the cost will be lower for heroes with more collaborations. Please specify which metric you used to select the weights in the report.\n"
   ]
  },
  {
   "attachments": {},
   "cell_type": "markdown",
   "id": "3675c74c",
   "metadata": {},
   "source": [
    "We group by the hero1 and hero2 on the hero_df to obtain the number of occurencies between to nodes, which corresponds to the number of times a hero collaborated with another hero. The we obtain a new dataset from this operation, in fact we need the 'weight' variable in our dataset.\n"
   ]
  },
  {
   "cell_type": "code",
   "execution_count": 8,
   "id": "916d825d",
   "metadata": {},
   "outputs": [],
   "source": [
    "count_hero_df = hero_df.groupby([\"hero1\", \"hero2\"]).size().reset_index(name=\"weight\")"
   ]
  },
  {
   "attachments": {},
   "cell_type": "markdown",
   "id": "ccf04cd1",
   "metadata": {},
   "source": [
    "We set the weight to be 1/n because it has to be inversely related to the number of times each hero collaborted with another hero. In this way heroes who got lot of collaborations will be penalized.\n"
   ]
  },
  {
   "cell_type": "code",
   "execution_count": 9,
   "id": "ac9f1328",
   "metadata": {},
   "outputs": [],
   "source": [
    "count_hero_df[\"weight\"] = count_hero_df[\"weight\"].apply(lambda x: 1 / x)"
   ]
  },
  {
   "cell_type": "code",
   "execution_count": 10,
   "id": "d3652f82",
   "metadata": {},
   "outputs": [
    {
     "data": {
      "text/html": [
       "<div>\n",
       "<style scoped>\n",
       "    .dataframe tbody tr th:only-of-type {\n",
       "        vertical-align: middle;\n",
       "    }\n",
       "\n",
       "    .dataframe tbody tr th {\n",
       "        vertical-align: top;\n",
       "    }\n",
       "\n",
       "    .dataframe thead th {\n",
       "        text-align: right;\n",
       "    }\n",
       "</style>\n",
       "<table border=\"1\" class=\"dataframe\">\n",
       "  <thead>\n",
       "    <tr style=\"text-align: right;\">\n",
       "      <th></th>\n",
       "      <th>hero1</th>\n",
       "      <th>hero2</th>\n",
       "      <th>weight</th>\n",
       "    </tr>\n",
       "  </thead>\n",
       "  <tbody>\n",
       "    <tr>\n",
       "      <th>0</th>\n",
       "      <td>24-HOUR MAN/EMMANUEL</td>\n",
       "      <td>FROST, CARMILLA</td>\n",
       "      <td>1.0</td>\n",
       "    </tr>\n",
       "    <tr>\n",
       "      <th>1</th>\n",
       "      <td>24-HOUR MAN/EMMANUEL</td>\n",
       "      <td>KILLRAVEN/JONATHAN R</td>\n",
       "      <td>1.0</td>\n",
       "    </tr>\n",
       "    <tr>\n",
       "      <th>2</th>\n",
       "      <td>24-HOUR MAN/EMMANUEL</td>\n",
       "      <td>M'SHULLA</td>\n",
       "      <td>1.0</td>\n",
       "    </tr>\n",
       "    <tr>\n",
       "      <th>3</th>\n",
       "      <td>3-D MAN/CHARLES CHAN</td>\n",
       "      <td>ANGEL/WARREN KENNETH</td>\n",
       "      <td>1.0</td>\n",
       "    </tr>\n",
       "    <tr>\n",
       "      <th>4</th>\n",
       "      <td>3-D MAN/CHARLES CHAN</td>\n",
       "      <td>ANT-MAN II/SCOTT HAR</td>\n",
       "      <td>1.0</td>\n",
       "    </tr>\n",
       "    <tr>\n",
       "      <th>...</th>\n",
       "      <td>...</td>\n",
       "      <td>...</td>\n",
       "      <td>...</td>\n",
       "    </tr>\n",
       "    <tr>\n",
       "      <th>224094</th>\n",
       "      <td>ZZZAX</td>\n",
       "      <td>RODRIGUEZ, DEBRA</td>\n",
       "      <td>1.0</td>\n",
       "    </tr>\n",
       "    <tr>\n",
       "      <th>224095</th>\n",
       "      <td>ZZZAX</td>\n",
       "      <td>ROSS, GEN. THADDEUS</td>\n",
       "      <td>0.5</td>\n",
       "    </tr>\n",
       "    <tr>\n",
       "      <th>224096</th>\n",
       "      <td>ZZZAX</td>\n",
       "      <td>SUMMERS, NATHAN CHRI</td>\n",
       "      <td>1.0</td>\n",
       "    </tr>\n",
       "    <tr>\n",
       "      <th>224097</th>\n",
       "      <td>ZZZAX</td>\n",
       "      <td>TIGRA/GREER NELSON</td>\n",
       "      <td>1.0</td>\n",
       "    </tr>\n",
       "    <tr>\n",
       "      <th>224098</th>\n",
       "      <td>ZZZAX</td>\n",
       "      <td>WONDER MAN/SIMON WIL</td>\n",
       "      <td>1.0</td>\n",
       "    </tr>\n",
       "  </tbody>\n",
       "</table>\n",
       "<p>224099 rows × 3 columns</p>\n",
       "</div>"
      ],
      "text/plain": [
       "                       hero1                 hero2  weight\n",
       "0       24-HOUR MAN/EMMANUEL       FROST, CARMILLA     1.0\n",
       "1       24-HOUR MAN/EMMANUEL  KILLRAVEN/JONATHAN R     1.0\n",
       "2       24-HOUR MAN/EMMANUEL              M'SHULLA     1.0\n",
       "3       3-D MAN/CHARLES CHAN  ANGEL/WARREN KENNETH     1.0\n",
       "4       3-D MAN/CHARLES CHAN  ANT-MAN II/SCOTT HAR     1.0\n",
       "...                      ...                   ...     ...\n",
       "224094                 ZZZAX      RODRIGUEZ, DEBRA     1.0\n",
       "224095                 ZZZAX   ROSS, GEN. THADDEUS     0.5\n",
       "224096                 ZZZAX  SUMMERS, NATHAN CHRI     1.0\n",
       "224097                 ZZZAX    TIGRA/GREER NELSON     1.0\n",
       "224098                 ZZZAX  WONDER MAN/SIMON WIL     1.0\n",
       "\n",
       "[224099 rows x 3 columns]"
      ]
     },
     "execution_count": 10,
     "metadata": {},
     "output_type": "execute_result"
    }
   ],
   "source": [
    "count_hero_df\n"
   ]
  },
  {
   "attachments": {},
   "cell_type": "markdown",
   "id": "675a0d57",
   "metadata": {},
   "source": [
    "Now we can create a 'weighted graph' using the weight we calculated as our edge attribute.\n"
   ]
  },
  {
   "cell_type": "code",
   "execution_count": 11,
   "id": "c9fa5437",
   "metadata": {},
   "outputs": [],
   "source": [
    "G_hero_net = nx.from_pandas_edgelist(\n",
    "    count_hero_df, \"hero1\", \"hero2\", edge_attr=\"weight\", create_using=nx.MultiGraph\n",
    ")"
   ]
  },
  {
   "cell_type": "code",
   "execution_count": 12,
   "id": "b5570683",
   "metadata": {},
   "outputs": [
    {
     "data": {
      "text/plain": [
       "AtlasView({0: {'weight': 1.0}})"
      ]
     },
     "execution_count": 12,
     "metadata": {},
     "output_type": "execute_result"
    }
   ],
   "source": [
    "G_hero_net[\"ZZZAX\"][\"RODRIGUEZ, DEBRA\"]"
   ]
  },
  {
   "attachments": {},
   "cell_type": "markdown",
   "id": "0ca9ea69-ba1f-402c-b5f7-c8cd1ae4cd8e",
   "metadata": {},
   "source": [
    "**Second graph** : The data in 'nodes.csv' and 'edges.csv' will be used to construct the second graph. The type of node (hero/comic) can be found in 'nodes.csv', and an edge between a hero node and a comic node can be found in 'edges.csv' when the hero has appeared in that specific comic. This graph is assumed to be undirected and unweighted.\n"
   ]
  },
  {
   "cell_type": "markdown",
   "id": "0c9967fb",
   "metadata": {},
   "source": [
    "We need to set the 'node' column as index of the nodes_df dataframe in order to proceed with our request.\n"
   ]
  },
  {
   "cell_type": "code",
   "execution_count": 13,
   "id": "141959ba",
   "metadata": {},
   "outputs": [
    {
     "name": "stdout",
     "output_type": "stream",
     "text": [
      "19090\n",
      "19087\n"
     ]
    }
   ],
   "source": [
    "print(len(nodes_df))\n",
    "print(len(nodes_df.node.unique()))\n"
   ]
  },
  {
   "attachments": {},
   "cell_type": "markdown",
   "id": "8c884fa8",
   "metadata": {},
   "source": [
    "We see that there are only 3 non unique values in the 'node' column se we decided to drop them to mantain the dataframe consistency.\n"
   ]
  },
  {
   "cell_type": "code",
   "execution_count": 14,
   "id": "fec734e7",
   "metadata": {},
   "outputs": [],
   "source": [
    "nodes_df = nodes_df.drop_duplicates(subset=[\"node\"])"
   ]
  },
  {
   "attachments": {},
   "cell_type": "markdown",
   "id": "cbd96f87",
   "metadata": {},
   "source": [
    "We transform the node column in the new index of the dataframe and we transform it in a dictionary.\n"
   ]
  },
  {
   "cell_type": "code",
   "execution_count": 15,
   "id": "f7e709fc",
   "metadata": {},
   "outputs": [],
   "source": [
    "nodes_attr = nodes_df.set_index(\"node\").to_dict(orient=\"index\")"
   ]
  },
  {
   "attachments": {},
   "cell_type": "markdown",
   "id": "d66def3d",
   "metadata": {},
   "source": [
    "Now we can proceed with the creation of the second graph. First we create a new graph starting from the edges dataframe and then we select the nodes_attr dictionary to be the attributes of our nodes.\n"
   ]
  },
  {
   "cell_type": "code",
   "execution_count": 16,
   "id": "26c35798",
   "metadata": {},
   "outputs": [],
   "source": [
    "G_edges_net = nx.from_pandas_edgelist(edges_df, \"hero\", \"comic\")\n",
    "nx.set_node_attributes(G_edges_net, nodes_attr)"
   ]
  },
  {
   "cell_type": "code",
   "execution_count": 17,
   "id": "9a83ec47",
   "metadata": {},
   "outputs": [
    {
     "data": {
      "text/plain": [
       "{'type': 'hero'}"
      ]
     },
     "execution_count": 17,
     "metadata": {},
     "output_type": "execute_result"
    }
   ],
   "source": [
    "G_edges_net.nodes[\"VENUS II\"]"
   ]
  },
  {
   "attachments": {},
   "cell_type": "markdown",
   "id": "7f977171-c0c1-4597-93bd-9c82579af4f9",
   "metadata": {},
   "source": [
    "# 2. **_Backend Implementation_**\n"
   ]
  },
  {
   "attachments": {},
   "cell_type": "markdown",
   "id": "06e883c9-9337-4547-bc98-e8cd30587ce6",
   "metadata": {},
   "source": [
    "The goal of this part is the implementation of a controller system that has different functionalities. The controller should take as input an identifier \"i\" and run the associated function_i applied to the graph you create from the downloaded data.\n",
    "\n",
    "Definition: As the number of nodes and edges grows, we may request to work on a subset of the data to reduce computation time and improve network visualization. In this case, we will ask you only to consider the data for top N heros. We define the top N heroes as follows:\n",
    "\n",
    "- Top N heroes: The top N heroes who have appeared in the most number of comics. The 'edges.csv' file, which represents the comics in which each hero has appeared, can be used to filter these N heroes.\n",
    "\n",
    "Note: When the value of N is not set by the user, the function should consider the whole data.\n",
    "Functionality 1 - extract the graph's features\n"
   ]
  },
  {
   "attachments": {},
   "cell_type": "markdown",
   "id": "6ae64674",
   "metadata": {},
   "source": [
    "## **_Functionality 1 - Extract the graph's features_**\n"
   ]
  },
  {
   "attachments": {},
   "cell_type": "markdown",
   "id": "de9f0492",
   "metadata": {},
   "source": [
    "**Input**:\n",
    "\n",
    "- The graph data\n",
    "- The graph type (ex number 1 or number 2)\n",
    "- N: denoting the top N heroes that their data should be considered\n",
    "\n",
    "**Output**:\n",
    "\n",
    "- The number of nodes in the network (if type 2, report for both node types)\n",
    "- The number of collaborations of each superhero with the others (only if type 1)\n",
    "- The number of heroes that have appeared in each comic (only if type 2)\n",
    "- The network's density\n",
    "- The network's degree distribution\n",
    "- The average degree of the network\n",
    "- The network's Hubs (hubs are nodes having degrees more extensive than the 95th percentile of the degree distribution)\n",
    "- Whether the Network is sparse or dense\n"
   ]
  },
  {
   "cell_type": "code",
   "execution_count": 18,
   "id": "5cd0440b-0bbf-426f-9aa6-880754a58bc2",
   "metadata": {},
   "outputs": [],
   "source": [
    "def Functionality_1(graph, graph_type, N=6421):\n",
    "    if N != 6421 and graph_type == 1:\n",
    "        graph = myf.TOP_N(N, G_hero_net, edges_df)\n",
    "    print(\"\\n\")\n",
    "    myf.number_of_nodes(graph_type, graph)\n",
    "    myf.number_of_collaborations(graph_type, graph)\n",
    "    print(\"\\n\")\n",
    "    myf.number_of_hero_in_each_comic(graph_type)\n",
    "    print(\"\\n\")\n",
    "    dens = myf.graph_density(graph)\n",
    "    print(\"The degree distribution is\", myf.degree_distribution(graph))\n",
    "    print(\"\\n\")\n",
    "    print(\"The average degree is\", myf.degree_mean(graph))\n",
    "    print(\"\\n\")\n",
    "    print(\"The node hubs are\", myf.nodes_hubs(graph))\n",
    "    print(\"\\n\")\n",
    "    print(\"The density is\", dens)\n",
    "    print(\"\\n\")\n",
    "    if dens >= 0.5:\n",
    "        print(\"The graph is dense\")\n",
    "    else:\n",
    "        print(\"The graph is sparse\")\n",
    "\n",
    "    return"
   ]
  },
  {
   "cell_type": "code",
   "execution_count": 19,
   "id": "6d4717dc-e6be-4e77-81e9-126d6437a1c1",
   "metadata": {},
   "outputs": [
    {
     "name": "stdout",
     "output_type": "stream",
     "text": [
      "\n",
      "\n",
      "The graph have 40 nodes\n",
      "WOLVERINE/LOGAN has 77 collaborations.\n",
      "CYCLOPS/SCOTT SUMMER has 76 collaborations.\n",
      "ANGEL/WARREN KENNETH has 76 collaborations.\n",
      "PARKER, MAY has 59 collaborations.\n",
      "WATSON-PARKER, MARY has 66 collaborations.\n",
      "COLOSSUS II/PETER RA has 75 collaborations.\n",
      "THOR/DR. DONALD BLAK has 78 collaborations.\n",
      "SCARLET WITCH/WANDA has 77 collaborations.\n",
      "BLACK WIDOW/NATASHA has 75 collaborations.\n",
      "MR. FANTASTIC/REED R has 78 collaborations.\n",
      "CAPTAIN AMERICA has 78 collaborations.\n",
      "HUMAN TORCH/JOHNNY S has 78 collaborations.\n",
      "BEAST/HENRY &HANK& P has 78 collaborations.\n",
      "SUB-MARINER/NAMOR MA has 78 collaborations.\n",
      "QUICKSILVER/PIETRO M has 75 collaborations.\n",
      "JAMESON, J. JONAH has 76 collaborations.\n",
      "NIGHTCRAWLER/KURT WA has 77 collaborations.\n",
      "SHE-HULK/JENNIFER WA has 77 collaborations.\n",
      "VISION has 77 collaborations.\n",
      "FURY, COL. NICHOLAS has 75 collaborations.\n",
      "ANT-MAN/DR. HENRY J. has 78 collaborations.\n",
      "SHADOWCAT/KATHERINE has 69 collaborations.\n",
      "DAREDEVIL/MATT MURDO has 78 collaborations.\n",
      "JONES, RICHARD MILHO has 74 collaborations.\n",
      "JARVIS, EDWIN has 76 collaborations.\n",
      "HAWK has 77 collaborations.\n",
      "WASP/JANET VAN DYNE has 78 collaborations.\n",
      "INVISIBLE WOMAN/SUE has 78 collaborations.\n",
      "MARVEL GIRL/JEAN GRE has 77 collaborations.\n",
      "PROFESSOR X/CHARLES has 76 collaborations.\n",
      "DR. STRANGE/STEPHEN has 77 collaborations.\n",
      "SPIDER-MAN/PETER PAR has 78 collaborations.\n",
      "STORM/ORORO MUNROE S has 78 collaborations.\n",
      "WONDER MAN/SIMON WIL has 75 collaborations.\n",
      "THING/BENJAMIN J. GR has 78 collaborations.\n",
      "HERCULES [GREEK GOD] has 76 collaborations.\n",
      "ICEMAN/ROBERT BOBBY has 78 collaborations.\n",
      "ROBERTSON, JOE has 69 collaborations.\n",
      "IRON MAN/TONY STARK has 78 collaborations.\n",
      "HULK/DR. ROBERT BRUC has 78 collaborations.\n",
      "\n",
      "\n",
      "number_of_hero_in_each_comic: Valid only for type 2\n",
      "\n",
      "\n",
      "The degree distribution is Counter({78: 16, 77: 8, 76: 6, 75: 5, 69: 2, 59: 1, 66: 1, 74: 1})\n",
      "\n",
      "\n",
      "The average degree is 75.8\n",
      "\n",
      "\n",
      "The node hubs are []\n",
      "\n",
      "\n",
      "The density is 1.9435897435897436\n",
      "\n",
      "\n",
      "The graph is dense\n"
     ]
    }
   ],
   "source": [
    "Functionality_1(G_hero_net, 1, N=40)\n"
   ]
  },
  {
   "attachments": {},
   "cell_type": "markdown",
   "id": "d6adf0a7-429e-4cd3-96a1-53a3c7dc2b30",
   "metadata": {},
   "source": [
    "## Functionality 2 - Find top superheroes!\n"
   ]
  },
  {
   "attachments": {},
   "cell_type": "markdown",
   "id": "691d891c",
   "metadata": {},
   "source": [
    "_Input_:\n",
    "\n",
    "- The graph data\n",
    "- A node (hero or comic)\n",
    "- One of the given metrics : _Betweeness, PageRank, ClosenessCentrality, DegreeCentrality_\n",
    "- N: denoting the top N heroes that their data should be considered\n",
    "\n",
    "_Output_:\n",
    "\n",
    "- The metric's value over the considered graph\n",
    "- The given node's value\n",
    "\n",
    "Note: Give an explanation regarding the features of the user based on all of the metrics (e.g. if the betweenness metric is high, what does this mean in practice, what if the betweenness is low but has a high PageRank value, etc.).\n"
   ]
  },
  {
   "attachments": {},
   "cell_type": "markdown",
   "id": "a18b8c9e",
   "metadata": {},
   "source": [
    "### Metrics\n"
   ]
  },
  {
   "attachments": {},
   "cell_type": "markdown",
   "id": "5de18c44",
   "metadata": {},
   "source": [
    "- **Degree centrality**:\n",
    "\n",
    "  The degree centrality of a node in a graph is a measure of the importance of that node in the graph. It is defined as the number of edges incident to the node, i.e., the number of neighbors it has. In other words, it is the number of connections a node has in the graph. The degree centrality of a node can be calculated as:\n",
    "\n",
    "  $ Degree\\,Centrality = \\frac{number\\,\\,of\\,\\,neighbors}{number\\,of\\,nodes\\, -\\, 1} $\n",
    "\n",
    "  Nodes with high degree centrality are often considered important or influential in the graph, as they have a large number of connections and may be able to spread information or influence other nodes more effectively.\n"
   ]
  },
  {
   "attachments": {},
   "cell_type": "markdown",
   "id": "a92920db",
   "metadata": {},
   "source": [
    "- **Betweenness centrality**:\n",
    "\n",
    "  The betweenness centrality of a node in a graph is a measure of the importance of that node in terms of the number of shortest paths that pass through it. It is defined as the fraction of all shortest paths in the graph that pass through the node. In other words, it is a measure of the node's centrality in terms of the connectivity of the graph.\n",
    "  The betweenness centrality of a node can be calculated as:\n",
    "\n",
    "  $ Betweenness\\,centrality = \\frac{num\\,of\\,shortest\\,path\\,passing\\,through\\,the\\,node}{total\\,num\\,of\\,shortest\\,paths\\,in\\,the\\,graph}$\n",
    "\n",
    "  Nodes with high betweenness centrality are often considered important or influential in the graph, as they are more likely to be on the shortest path between other nodes and may be able to control the flow of information or influence other nodes more effectively.\n"
   ]
  },
  {
   "attachments": {},
   "cell_type": "markdown",
   "id": "adc59e69",
   "metadata": {},
   "source": [
    "- **Closeness centrality** :\n",
    "\n",
    "  The closeness centrality of a node in the graph is a measure of the importance of that node in terms of its ability to reach other nodes in the graph. It is defined as the reciprocal of the sum of the shortest path distances from the node to all other nodes in the graph. In other words, it is a measure of the node's centrality in terms of its proximity to other nodes.The closeness centrality can be calculated as:\n",
    "\n",
    "  $ Closeness\\,centrality = \\frac{1}{sum\\,of\\,the\\,shortest\\,path\\,distances\\,from\\,the\\,node\\,to\\,all\\,other\\,nodes}$\n",
    "\n",
    "  Nodes with high closeness centrality are often considered important or influential in the graph, as they are able to reach other nodes quickly and may be able to spread information or influence other nodes more effectively.\n"
   ]
  },
  {
   "attachments": {},
   "cell_type": "markdown",
   "id": "b9ce618a",
   "metadata": {},
   "source": [
    "- **Page rank**:\n",
    "\n",
    "  The page rank algorithm is a way to measuring the importance or ranking of nodes in a network. In the context of a network, the PageRank of a node is a measure of the importance of that node based on the number and quality of the edges pointing to it. Nodes with a higher PageRank are considered more important and are more likely to appear at the top of search results.\n",
    "\n",
    "  To calculate the PageRank of the nodes in a network, the algorithm follows these steps:\n",
    "\n",
    "  - First of all we need to transform our graph in a directed graph.\n",
    "  - We need to assign a initial PageRank score to each node.\n",
    "  - Then we need to iteratively update the PageRank score of each node based on the PageRank score of the nodes that link to it. Specifically, the PageRank of a node is equal to the sum of the PageRanks of the nodes that link to it, divided by the number of outbound links from each of those nodes.\n",
    "    We also need to use a damping factor in order to avoid infinite loops and allow the algorithm to converge.\n",
    "  - We need to repeat the previous step until the score converge.\n"
   ]
  },
  {
   "attachments": {},
   "cell_type": "markdown",
   "id": "bd147e57",
   "metadata": {},
   "source": [
    "### Correlation between different metrics\n"
   ]
  },
  {
   "attachments": {},
   "cell_type": "markdown",
   "id": "893c3153",
   "metadata": {},
   "source": [
    "The correlation between different network metrics will depend on the specific characteristics of the network and the definition of the metrics. In general, different metrics may capture different aspects of the network and may not be strongly correlated.\n",
    "\n",
    "For example, **degree centrality** measures the number of connections a node has, while **betweenness centrality** measures the number of times a node acts as a \"bridge\" between other nodes in the network. These two metrics may not be strongly correlated, as they capture different aspects of the network.\n",
    "\n",
    "In the same way, also the **closeness centrality** capture another different aspect of the network, in fact this metric is a measure of the average distance of a node to all other nodes in the network. High closeness centrality indicates a node that is considered to be central to our network.\n",
    "\n",
    "Similarly, **PageRank**, which is a measure of the importance or ranking of a node based on the number and quality of the links pointing to it, may not be strongly correlated with other metrics such as degree centrality or betweenness centrality.\n"
   ]
  },
  {
   "cell_type": "code",
   "execution_count": 20,
   "id": "144c97b3",
   "metadata": {},
   "outputs": [],
   "source": [
    "# TODO: Fasten up betweeness, closeness and degree if it is possible."
   ]
  },
  {
   "cell_type": "code",
   "execution_count": 21,
   "id": "cb11d55f-d53f-4a2c-8216-bcff417f3898",
   "metadata": {},
   "outputs": [],
   "source": [
    "def functionality_2(\n",
    "    graph, node, metric, N=6421\n",
    "):  # DO NOT USE IT WITH A BIG N, IT IS TOO SLOW\n",
    "\n",
    "    if N != 6421:\n",
    "        graph = myf.TOP_N(N, G_hero_net, edges_df)\n",
    "    print(\"The \" + str(metric) + \" is\", \"\\n\")\n",
    "\n",
    "    if metric.lower() == \"betweeness\":\n",
    "        print(myf.betweeness_metric(graph))\n",
    "        print(\"\\n\")\n",
    "        print(\n",
    "            \"The value for the node \" + str(node) + \" is: \",\n",
    "            myf.betweeness_metric(graph)[node],\n",
    "        )\n",
    "    elif metric.lower() == \"pagerank\":\n",
    "        print(myf.page_rank_metric(graph))\n",
    "        print(\"\\n\")\n",
    "        print(\n",
    "            \"The value for the node \" + str(node) + \" is: \",\n",
    "            myf.page_rank_metric(graph)[node],\n",
    "        )\n",
    "    elif metric.lower() == \"closenesscentrality\":\n",
    "        print(myf.closeness_metric(graph))\n",
    "        print(\"\\n\")\n",
    "        print(\n",
    "            \"The value for the node \" + str(node) + \" is: \",\n",
    "            myf.closeness_metric(graph)[node],\n",
    "        )\n",
    "    elif metric.lower() == \"degreecentrality\":\n",
    "        print(myf.degree_metric(graph))\n",
    "        print(\"\\n\")\n",
    "        print(\n",
    "            \"The value for the node \" + str(node) + \" is: \",\n",
    "            myf.degree_metric(graph)[node],\n",
    "        )\n",
    "    else:\n",
    "        print(\"This metric is not included\")\n",
    "    return"
   ]
  },
  {
   "cell_type": "code",
   "execution_count": 22,
   "id": "48cb13c6",
   "metadata": {},
   "outputs": [
    {
     "name": "stdout",
     "output_type": "stream",
     "text": [
      "The pagerank is \n",
      "\n",
      "{'WOLVERINE/LOGAN': 1.0128692903009693, 'CYCLOPS/SCOTT SUMMER': 1.0128844707869777, 'ANGEL/WARREN KENNETH': 1.012899544705697, 'PARKER, MAY': 0.9336481272329689, 'WATSON-PARKER, MARY': 0.9533666485141262, 'COLOSSUS II/PETER RA': 1.0129441754741095, 'THOR/DR. DONALD BLAK': 1.012958830264833, 'SCARLET WITCH/WANDA': 1.012973382178657, 'BLACK WIDOW/NATASHA': 1.0129878319377803, 'MR. FANTASTIC/REED R': 1.01300218025933, 'CAPTAIN AMERICA': 1.0130164278554001, \"BLACK PANTHER/T'CHAL\": 0.9931290628033298, 'HUMAN TORCH/JOHNNY S': 1.0130446310370567, 'BEAST/HENRY &HANK& P': 1.0130585806278907, 'SUB-MARINER/NAMOR MA': 1.0130724322923417, 'QUICKSILVER/PIETRO M': 0.9932581057844919, 'ROGUE': 0.9931267819451733, 'JAMESON, J. JONAH': 0.9931470174561849, 'NIGHTCRAWLER/KURT WA': 0.9931537195045245, 'SHE-HULK/JENNIFER WA': 1.0131401530059754, 'VISION': 1.01315343203084, 'ODIN [ASGARDIAN]': 0.9142593608819196, 'FURY, COL. NICHOLAS': 0.9932779275281086, 'ANT-MAN/DR. HENRY J.': 1.0131927250338943, 'SHADOWCAT/KATHERINE': 0.9139356578465136, 'DAREDEVIL/MATT MURDO': 0.9933169066365762, 'JONES, RICHARD MILHO': 0.9934067457009377, 'JARVIS, EDWIN': 1.013243865142154, 'HAWK': 1.0132564161059257, 'WASP/JANET VAN DYNE': 1.013268878961702, 'INVISIBLE WOMAN/SUE': 1.0132812543280028, 'MARVEL GIRL/JEAN GRE': 1.013293542819006, 'PROFESSOR X/CHARLES': 0.9933194426174665, 'DR. STRANGE/STEPHEN': 1.0133178838613104, 'SPIDER-MAN/PETER PAR': 1.0133299152123196, 'STORM/ORORO MUNROE S': 1.0133418621030246, 'CANNONBALL II/SAM GU': 0.9342060802009498, 'SILVER SURFER/NORRIN': 1.013365484420618, 'WONDER MAN/SIMON WIL': 1.01337718161483, 'THING/BENJAMIN J. GR': 1.0133887966945248, 'HERCULES [GREEK GOD]': 0.993498408845905, 'ICEMAN/ROBERT BOBBY': 1.0134117550628072, 'ROBERTSON, JOE': 0.9537454867709729, 'IRON MAN/TONY STARK': 1.013434444841404, 'HULK/DR. ROBERT BRUC': 1.0134456579322009}\n",
      "\n",
      "\n",
      "The value for the node SCARLET WITCH/WANDA is:  1.012973382178657\n"
     ]
    }
   ],
   "source": [
    "functionality_2(G_hero_net, \"SCARLET WITCH/WANDA\", \"pagerank\", 45)"
   ]
  },
  {
   "attachments": {},
   "cell_type": "markdown",
   "id": "008b8e6d-d675-4d6a-8745-0cce486708eb",
   "metadata": {},
   "source": [
    "## Functionality 3 - Shortest ordered Route\n"
   ]
  },
  {
   "attachments": {},
   "cell_type": "markdown",
   "id": "1bb1486f",
   "metadata": {},
   "source": [
    "**Input**:\n",
    "\n",
    "- The graph data\n",
    "- A sequence of superheroes h = [$h_{2}$ , ... , $h_{n-1}$]\n",
    "- Initial node $h_{1}$ and an end node $h_{n}$\n",
    "- N: denoting the top N heroes that their data should be considered\n",
    "\n",
    "**Output**:\n",
    "\n",
    "- The shortest walk of comics that you need to read to get from $h_{1}$ to $h_{n}$\n",
    "\n",
    "Considerations: For this functionality, you need to implement an algorithm that returns the shortest walk that goes from node $h_{j}$ to $h_{n}$ , which visits in order the nodes in h. The choice of $h_{j}$ and $h_{n}$ can be made randomly (or if it improves the performance of the algorithm, you can also define it in any other way)\n",
    "\n",
    "**Important Notes**:\n",
    "\n",
    "- This algorithm should be run only on the second graph.\n",
    "- The algorithm needs to handle the case that the graph is not connected. Thus, only some of the nodes in h are reachable from $h_{1}$. In such a scenario, it is enough to let the program give in the output the string \"There is no such path\".\n",
    "- Since we are dealing with walks, you can pass on the same node $h_{i}$ more than once, but you have to preserve order. E.g., if you start from Spiderman to reach Deadpool, and your path requires you to visit Iron-man and Colossus, you can go back to any comics any time you want, assuming that the order in which you visit the heroes is still the same.\n"
   ]
  },
  {
   "cell_type": "code",
   "execution_count": 23,
   "id": "72521e10",
   "metadata": {},
   "outputs": [],
   "source": [
    "start = [\"HAWK\"]\n",
    "sequence = [\"PEATOR\", \"SPIDER-MAN/PETER PAR\", \"SHAPE\", \"BI-BEAST II\", \"TANA NILE\"]\n",
    "end = [\"RAMBO\"]\n",
    "complete_list = start + sequence + end"
   ]
  },
  {
   "cell_type": "code",
   "execution_count": 24,
   "id": "c2db35c4",
   "metadata": {},
   "outputs": [
    {
     "name": "stdout",
     "output_type": "stream",
     "text": [
      "The shortest path from HAWK to RAMBO is:\n",
      "['HAWK', 'COC 1', 'PEATOR', 'ASM 223', 'SPIDER-MAN/PETER PAR', 'Q 23', 'ARCANNA/ARCANNA JONE', 'A3 5', 'SHAPE', 'Q 14', 'BI-BEAST II', 'T 315', 'IRON MAN/TONY STARK', 'A 105', 'TANA NILE', 'A 105', 'AMPHIBIUS', 'M/FAN 1', 'SPIDER-MAN/PETER PAR', 'SLEEP 17', 'RAMBO']\n"
     ]
    }
   ],
   "source": [
    "complete_path = list()\n",
    "for i in range(len(complete_list) - 1):\n",
    "    path = nx.shortest_path(\n",
    "        G_edges_net, source=complete_list[i], target=complete_list[i + 1]\n",
    "    )\n",
    "    complete_path.append(path[0 : len(path) - 1])\n",
    "    i += 1\n",
    "complete_path = list(itertools.chain(*complete_path)) + end\n",
    "print(\"The shortest path from \" + start[0] + \" to \" + end[0] + \" is:\")\n",
    "print(complete_path)"
   ]
  },
  {
   "attachments": {},
   "cell_type": "markdown",
   "id": "b93c34cf",
   "metadata": {},
   "source": [
    "## Functionality 4 - Disconnecting Graphs\n"
   ]
  },
  {
   "attachments": {},
   "cell_type": "markdown",
   "id": "7459bfb9",
   "metadata": {},
   "source": [
    "**Input**:\n",
    "\n",
    "- The graph data\n",
    "- heroA: a superhero to which will relate sub-graph $G_{a}$\n",
    "- heroB: a superhero to which will relate sub-graph $G_{b}$\n",
    "- N: denoting the top N heroes that their data should be considered.\n",
    "\n",
    "**Output**:\n",
    "\n",
    "- The minimum number of links (by considering their weights) required to disconnect the original graph in two disconnected subgraphs: $G_{a}$ and $G_{b}$.\n"
   ]
  },
  {
   "cell_type": "code",
   "execution_count": 25,
   "id": "51995de8",
   "metadata": {},
   "outputs": [
    {
     "data": {
      "text/plain": [
       "['24-HOUR MAN/EMMANUEL',\n",
       " 'FROST, CARMILLA',\n",
       " 'KILLRAVEN/JONATHAN R',\n",
       " \"M'SHULLA\",\n",
       " '3-D MAN/CHARLES CHAN',\n",
       " 'ANGEL/WARREN KENNETH',\n",
       " 'ANT-MAN II/SCOTT HAR',\n",
       " 'AURORA/JEANNE-MARIE',\n",
       " \"BLACK PANTHER/T'CHAL\",\n",
       " 'BLACK WIDOW/NATASHA',\n",
       " 'CAGE, LUKE/CARL LUCA',\n",
       " 'CAPTAIN AMERICA',\n",
       " 'COLLECTIVE MAN',\n",
       " 'CRYSTAL [INHUMAN]',\n",
       " 'CYCLOPS/SCOTT SUMMER',\n",
       " 'DARKSTAR/LAYNIA SERG',\n",
       " 'DEFENSOR',\n",
       " 'DR. DRUID/ANTHONY LU',\n",
       " 'DR. STRANGE/STEPHEN',\n",
       " 'GORILLA-MAN',\n",
       " 'HAWK',\n",
       " 'HUMAN ROBOT',\n",
       " 'IGOR',\n",
       " 'IKARIS/IKE HARRIS [E',\n",
       " 'INVISIBLE WOMAN/SUE',\n",
       " 'JACK OF HEARTS/JACK',\n",
       " 'JONES, RICHARD MILHO',\n",
       " 'KARNAK [INHUMAN]',\n",
       " 'LOBO',\n",
       " 'LOCKJAW [INHUMAN]',\n",
       " 'MARVEL BOY III/ROBER',\n",
       " 'MIKHLO',\n",
       " 'MOCKINGBIRD/DR. BARB',\n",
       " 'NORRISS, SISTER BARB',\n",
       " 'PHARAOH RAMA-TUT',\n",
       " 'PROFESSOR X/CHARLES',\n",
       " 'QUICKSILVER/PIETRO M',\n",
       " 'SABRA/RUTH BAT-SERAP',\n",
       " 'SASQUATCH/WALTER LAN',\n",
       " 'SCARLET WITCH/WANDA',\n",
       " 'SHADOWCAT/KATHERINE',\n",
       " 'SHE-HULK/JENNIFER WA',\n",
       " 'SHROUD/MAXIMILLIAN Q',\n",
       " 'SLOAN, FRED',\n",
       " 'THING/BENJAMIN J. GR',\n",
       " 'TORPEDO III/BROCK JO',\n",
       " 'URSA MAJOR/MIKHAIL U',\n",
       " 'VENUS II',\n",
       " 'WHIZZER/ROBERT L. FR',\n",
       " '4-D MAN/MERCURIO',\n",
       " 'BALDER [ASGARDIAN]',\n",
       " 'BALLANTINE, KAYLA',\n",
       " 'CAPTAIN MARVEL/CAPTA',\n",
       " 'DEMONSTAFF',\n",
       " 'DRAGONFLY/VERONICA D',\n",
       " 'EON',\n",
       " 'FANDRAL [ASGARDIAN]',\n",
       " 'FERRARI, CONNIE',\n",
       " 'FURY, COL. NICHOLAS',\n",
       " 'GRANT, SILAS',\n",
       " 'GREY GARGOYLE/PAUL P',\n",
       " 'HEIMDALL [ASGARDIAN]',\n",
       " 'HILDEGARDE [ASGARDIA',\n",
       " 'HOGUN [ASGARDIAN]',\n",
       " 'IRON MAN/TONY STARK',\n",
       " 'JAMESON, J. JONAH',\n",
       " 'KARNILLA [ASGARDIAN]',\n",
       " 'LOKI [ASGARDIAN]',\n",
       " 'MOONDRAGON/HEATHER D',\n",
       " 'ODIN [ASGARDIAN]',\n",
       " 'OVERMIND/GROM',\n",
       " 'SIF',\n",
       " 'STRANGER',\n",
       " 'TANA NILE',\n",
       " 'THOR IV/DARGO',\n",
       " 'THOR/DR. DONALD BLAK',\n",
       " 'TYRUS',\n",
       " 'VOLSTAGG',\n",
       " 'ZARRKO, ARTHUR',\n",
       " '8-BALL',\n",
       " 'BAYLOR, FRANK',\n",
       " 'CONOVER, ALYSSA',\n",
       " 'MCMURRAY, YVONNE',\n",
       " 'RAMBO',\n",
       " 'SHERIDAN, RICHARD RI',\n",
       " 'SLEEPWALKER',\n",
       " 'A',\n",
       " 'BLOK',\n",
       " 'MR. X',\n",
       " 'NIGHTCRAWLER/KURT WA',\n",
       " 'ROGUE',\n",
       " 'SABRETOOTH/VICTOR CR',\n",
       " 'T',\n",
       " \"A'YIN\",\n",
       " 'BARAK',\n",
       " 'CAPTAIN BRITAIN/BRIA',\n",
       " 'COLOSSUS II/PETER RA',\n",
       " 'MEGGAN',\n",
       " \"RA'AL\",\n",
       " 'SPIRAL',\n",
       " 'WISDOM, PETER',\n",
       " 'WOLFSBANE/RAHNE SINC',\n",
       " 'XIANDU',\n",
       " 'ABBOTT, JACK',\n",
       " 'COPPERHEAD IV',\n",
       " 'DAREDEVIL/MATT MURDO',\n",
       " 'GLADIATOR/MELVIN POT',\n",
       " 'KINGPIN/WILSON FISK',\n",
       " 'OWL/LELAND OWLSLEY',\n",
       " 'STILT-MAN/WILBUR DAY',\n",
       " 'ABCISSA',\n",
       " 'ALBERT',\n",
       " 'BEAST/HENRY &HANK& P',\n",
       " 'ELSIE DEE',\n",
       " 'GAMBIT/REMY LEBEAU',\n",
       " 'GATEWAY',\n",
       " 'HUNTER IN DARKNESS',\n",
       " 'JUBILEE/JUBILATION L',\n",
       " 'MOJO',\n",
       " 'MR. FANTASTIC/REED R',\n",
       " 'MYSTIQUE/RAVEN DARKH',\n",
       " 'WOLVERINE/LOGAN',\n",
       " 'ABEL',\n",
       " 'BAKER',\n",
       " 'BEDLAM/JESSE AARONSO',\n",
       " 'BOOMER/TABITHA SMITH',\n",
       " 'CANNONBALL II/SAM GU',\n",
       " 'CHARLIE',\n",
       " 'DOMINO III/BEATRICE',\n",
       " 'THUNDERBIRD II/JAMES',\n",
       " 'TRAVELER',\n",
       " 'TSUNG, MARCUS',\n",
       " 'WISDOM, ROMANY',\n",
       " 'ABOMINATION | MUTANT',\n",
       " 'ABSORBING MAN | MUTA',\n",
       " 'BROTHER VOODOO | MUT',\n",
       " 'DAREDEVIL | MUTANT X',\n",
       " 'DEVIL DINOSAUR | MUT',\n",
       " 'DR. STRANGE | MUTANT',\n",
       " 'DRACULA | MUTANT X-V',\n",
       " 'DRAX | MUTANT X-VERS',\n",
       " 'FIN FANG FOOM | MUTA',\n",
       " 'HOGUN | MUTANT X-VER',\n",
       " 'HULK | MUTANT X-VERS',\n",
       " 'ICE-MAN | MUTANT X-V',\n",
       " 'IRON FIST | MUTANT X',\n",
       " 'MAN-SPIDER | MUTANT',\n",
       " 'MOON KNIGHT | MUTANT',\n",
       " 'NAMORITA | MUTANT X-',\n",
       " 'POLARIS | MUTANT X-V',\n",
       " 'RAVEN | MUTANT X-VER',\n",
       " 'STINGRAY | MUTANT X-',\n",
       " 'SUB-MARINER | MUTANT',\n",
       " 'SUMMERS, SCOTT III |',\n",
       " 'THOR | MUTANT X-VERS',\n",
       " 'VALKYRIE II | MUTANT',\n",
       " 'VOLSTAGG | MUTANT X-',\n",
       " 'WOLVERINE | MUTANT X',\n",
       " 'ABOMINATION/EMIL BLO',\n",
       " 'ACHILLES II/HELMUT',\n",
       " 'ANDROMEDA/ANDROMEDA',\n",
       " 'ANT-MAN/DR. HENRY J.',\n",
       " 'ARMBRUSTER, COLONEL',\n",
       " 'ARMSTRONG, MYRA',\n",
       " 'ATALANTA',\n",
       " 'BANNER, BETTY ROSS T',\n",
       " 'BEREET',\n",
       " 'BUX',\n",
       " 'CALLISTO',\n",
       " 'CHALMERS, CYNTHIA',\n",
       " 'CHALMERS, JUDGE ROBE',\n",
       " 'CUSHING, KATE',\n",
       " 'CYBERSLIK',\n",
       " 'DARK CRAWLER',\n",
       " 'DEANGELO, DEVLIN',\n",
       " 'DOC SAMSON/DR. LEONA',\n",
       " 'DORNOVA-BLONSKY, NAD',\n",
       " 'EENY',\n",
       " 'ELECTRO/MAX DILLON',\n",
       " 'FALCON/SAM WILSON',\n",
       " 'FIREBIRD/BONITA JUAR',\n",
       " 'GHAUR [DEVIANT]',\n",
       " 'HAVOK/ALEX SUMMERS',\n",
       " 'HECTOR II',\n",
       " 'HOTSHOT/LOUIS',\n",
       " 'HULK/DR. ROBERT BRUC',\n",
       " 'IRONCLAD',\n",
       " 'JAILBAIT/JESS',\n",
       " 'JONES, MARLO CHANDLE',\n",
       " 'KENT, CLARK',\n",
       " 'LEADER/SAM STERNS',\n",
       " 'LIBRITO',\n",
       " 'LIPSCOMB, DR. ANGELA',\n",
       " 'LLYRA/LLYRA MORRIS',\n",
       " 'LOCUST',\n",
       " 'MADMAN/PHIL STERNS',\n",
       " 'MAGGOTT/JAPHETH',\n",
       " 'MARITA',\n",
       " 'MARROW/SARAH',\n",
       " 'MEANY']"
      ]
     },
     "execution_count": 25,
     "metadata": {},
     "output_type": "execute_result"
    }
   ],
   "source": [
    "list(G_hero_net.nodes())[:200]\n"
   ]
  },
  {
   "cell_type": "code",
   "execution_count": 26,
   "id": "e948d5bf",
   "metadata": {},
   "outputs": [],
   "source": [
    "min_cut = nx.minimum_edge_cut(G_hero_net, \"CAPTAIN AMERICA\", \"SPIDER-MAN/PETER PAR\")"
   ]
  },
  {
   "cell_type": "code",
   "execution_count": 27,
   "id": "ea9fb434",
   "metadata": {},
   "outputs": [
    {
     "data": {
      "text/plain": [
       "1734"
      ]
     },
     "execution_count": 27,
     "metadata": {},
     "output_type": "execute_result"
    }
   ],
   "source": [
    "len(list(min_cut))"
   ]
  },
  {
   "attachments": {},
   "cell_type": "markdown",
   "id": "78171e94",
   "metadata": {},
   "source": [
    "## Functionality 5 - Extracting Communities\n"
   ]
  },
  {
   "attachments": {},
   "cell_type": "markdown",
   "id": "3b489edd",
   "metadata": {},
   "source": [
    "**Input**:\n",
    "\n",
    "- The graph data\n",
    "- N: denoting the top N heroes that their data should be considered\n",
    "- Hero_1: denoting the name of one of the heroes\n",
    "- Hero_2: denoting the name of one of the heroes\n",
    "\n",
    "**Output**:\n",
    "\n",
    "- The minimum number of edges that should be removed to form communities\n",
    "- A list of communities, each containing a list of heroes that belong to them.\n",
    "- If the Hero_1 and Hero_2 belongs to the same community\n",
    "\n",
    "**Important Notes**:\n",
    "\n",
    "This functionality should only be run on the first graph.\n",
    "To comprehend this functionality better, we suggest you take a good look at this article\n"
   ]
  },
  {
   "cell_type": "code",
   "execution_count": null,
   "id": "70865d62",
   "metadata": {},
   "outputs": [],
   "source": [
    "def functionality_5 (graph_data, N=1500, hero_1 = \"\", hero_2 = \"\"):\n",
    "    communities_list = myf.label_propagation(graph_data)\n",
    "    "
   ]
  },
  {
   "cell_type": "code",
   "execution_count": 28,
   "id": "7b3576d9",
   "metadata": {},
   "outputs": [
    {
     "name": "stdout",
     "output_type": "stream",
     "text": [
      "Nodes:  6421\n",
      "Edges:  224099\n"
     ]
    }
   ],
   "source": [
    "print(\"Nodes: \", len(G_hero_net.nodes()))\n",
    "print(\"Edges: \", len(G_hero_net.edges()))"
   ]
  },
  {
   "cell_type": "code",
   "execution_count": 29,
   "id": "557d1f59",
   "metadata": {},
   "outputs": [],
   "source": [
    "small_graph = myf.TOP_N(1500, G_hero_net, edges_df)"
   ]
  },
  {
   "cell_type": "code",
   "execution_count": 31,
   "id": "30eeb8dd",
   "metadata": {},
   "outputs": [
    {
     "name": "stdout",
     "output_type": "stream",
     "text": [
      "Nodes:  1500\n",
      "Edges:  118710\n"
     ]
    }
   ],
   "source": [
    "print(\"Nodes: \", len(small_graph.nodes))\n",
    "print(\"Edges: \", len(small_graph.edges))"
   ]
  },
  {
   "cell_type": "code",
   "execution_count": 38,
   "id": "f6c61f2e",
   "metadata": {},
   "outputs": [],
   "source": [
    "# find communities in the graph\n",
    "c = myf.girvan_newman(small_graph.copy())\n",
    "\n",
    "# find the nodes forming the communities\n",
    "node_groups = []\n",
    "\n",
    "for i in c:\n",
    "  node_groups.append(list(i))"
   ]
  },
  {
   "cell_type": "code",
   "execution_count": 40,
   "id": "8c94092a",
   "metadata": {},
   "outputs": [
    {
     "data": {
      "text/plain": [
       "2"
      ]
     },
     "execution_count": 40,
     "metadata": {},
     "output_type": "execute_result"
    }
   ],
   "source": [
    "len(node_groups)"
   ]
  },
  {
   "cell_type": "code",
   "execution_count": 37,
   "id": "57de245b",
   "metadata": {},
   "outputs": [
    {
     "name": "stdout",
     "output_type": "stream",
     "text": [
      "Number of communities:  36\n"
     ]
    }
   ],
   "source": [
    "a = myf.label_propagation(G_hero_net)\n",
    "print(\"Number of communities: \", len(a))"
   ]
  }
 ],
 "metadata": {
  "kernelspec": {
   "display_name": "base",
   "language": "python",
   "name": "python3"
  },
  "language_info": {
   "codemirror_mode": {
    "name": "ipython",
    "version": 3
   },
   "file_extension": ".py",
   "mimetype": "text/x-python",
   "name": "python",
   "nbconvert_exporter": "python",
   "pygments_lexer": "ipython3",
   "version": "3.9.12"
  },
  "vscode": {
   "interpreter": {
    "hash": "a547c398147e467c4c98718231cb6d0e62d8e2b53accc721dd4e7a51a91b9db2"
   }
  }
 },
 "nbformat": 4,
 "nbformat_minor": 5
}
